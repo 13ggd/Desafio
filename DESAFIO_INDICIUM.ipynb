{
 "cells": [
  {
   "cell_type": "markdown",
   "metadata": {},
   "source": [
    "# Data Science Challenge"
   ]
  },
  {
   "cell_type": "markdown",
   "metadata": {},
   "source": [
    "### Gabriel Garcia Deitos"
   ]
  },
  {
   "cell_type": "markdown",
   "metadata": {},
   "source": [
    "## Introdução"
   ]
  },
  {
   "cell_type": "markdown",
   "metadata": {},
   "source": [
    "Projeto realizado com o objetivo de prever o churn (abandono de clientes) de um banco de dados fictício de uma instituição financeira. utilizando o primeiro dataset chamado Abandono_clientes composto por 10000 linhas e 13 colunas de informação (features), sendo uma coluna “Exited” composta por dados binários: 1 se o cliente abandonou o banco, 0 se não, para prever o segundo dataset que possui 1000 linhas e 12 colunas e não possui a coluna “Exited”."
   ]
  },
  {
   "cell_type": "code",
   "execution_count": 1,
   "metadata": {},
   "outputs": [],
   "source": [
    "# Imports\n",
    "from matplotlib import pyplot as plt\n",
    "import pandas as pd\n",
    "import numpy as np\n",
    "from sklearn.linear_model import LogisticRegression\n",
    "from sklearn.ensemble import RandomForestClassifier\n",
    "from sklearn.model_selection import train_test_split\n",
    "from sklearn.metrics import classification_report\n",
    "from sklearn.metrics import confusion_matrix\n",
    "import seaborn as sns"
   ]
  },
  {
   "cell_type": "markdown",
   "metadata": {},
   "source": [
    "## Arquivo csv"
   ]
  },
  {
   "cell_type": "code",
   "execution_count": 2,
   "metadata": {},
   "outputs": [],
   "source": [
    "# Convertendo o arquivo csv para pandas dataframe \n",
    "df_churn = pd.read_csv('Abandono_clientes.csv')\n",
    "df_predict_churn = pd.read_csv('Abandono_teste.csv', sep=';')"
   ]
  },
  {
   "cell_type": "markdown",
   "metadata": {},
   "source": [
    "## Visualização de dados"
   ]
  },
  {
   "cell_type": "markdown",
   "metadata": {},
   "source": [
    "Visualização dos dois Datasets, verificando nomes das colunas, se há números nulos, tipo de dados em cada uma e valores únicos nas colunas Geography, Gender e Surname."
   ]
  },
  {
   "cell_type": "code",
   "execution_count": 3,
   "metadata": {},
   "outputs": [
    {
     "name": "stdout",
     "output_type": "stream",
     "text": [
      "      RowNumber  CustomerId    Surname  CreditScore Geography  Gender  Age  \\\n",
      "8772       8773    15592123     Buccho          768    France    Male   30   \n",
      "6339       6340    15700325  Onyeoruru          644    France  Female   24   \n",
      "9592       9593    15766066   Nikitina          668   Germany  Female   28   \n",
      "6607       6608    15598259    Gregory          673   Germany  Female   41   \n",
      "8368       8369    15637690   Houghton          622   Germany  Female   34   \n",
      "\n",
      "      Tenure    Balance  NumOfProducts  HasCrCard  IsActiveMember  \\\n",
      "8772       6       0.00              2          1               1   \n",
      "6339       8   92760.55              1          1               0   \n",
      "9592       1  124511.01              1          0               0   \n",
      "6607       9   98612.10              1          1               0   \n",
      "8368       7   98675.74              1          1               0   \n",
      "\n",
      "      EstimatedSalary  Exited  \n",
      "8772        199454.37       0  \n",
      "6339         35896.75       0  \n",
      "9592        114258.18       0  \n",
      "6607        151349.35       0  \n",
      "8368        138906.85       1  \n"
     ]
    }
   ],
   "source": [
    "# Visualizando 5 linhas do dataframe\n",
    "print(df_churn.sample(5))"
   ]
  },
  {
   "cell_type": "code",
   "execution_count": 4,
   "metadata": {},
   "outputs": [
    {
     "name": "stdout",
     "output_type": "stream",
     "text": [
      "RowNumber          0\n",
      "CustomerId         0\n",
      "Surname            0\n",
      "CreditScore        0\n",
      "Geography          0\n",
      "Gender             0\n",
      "Age                0\n",
      "Tenure             0\n",
      "Balance            0\n",
      "NumOfProducts      0\n",
      "HasCrCard          0\n",
      "IsActiveMember     0\n",
      "EstimatedSalary    0\n",
      "Exited             0\n",
      "dtype: int64\n"
     ]
    }
   ],
   "source": [
    "# Verificando se há valores nulos no dataframe\n",
    "print(df_churn.isnull().sum())"
   ]
  },
  {
   "cell_type": "code",
   "execution_count": 5,
   "metadata": {},
   "outputs": [
    {
     "name": "stdout",
     "output_type": "stream",
     "text": [
      "Index(['RowNumber', 'CustomerId', 'Surname', 'CreditScore', 'Geography',\n",
      "       'Gender', 'Age', 'Tenure', 'Balance', 'NumOfProducts', 'HasCrCard',\n",
      "       'IsActiveMember', 'EstimatedSalary', 'Exited'],\n",
      "      dtype='object')\n"
     ]
    }
   ],
   "source": [
    "# Visualizando os nomes das colunas\n",
    "print(df_churn.columns)"
   ]
  },
  {
   "cell_type": "code",
   "execution_count": 6,
   "metadata": {},
   "outputs": [
    {
     "name": "stdout",
     "output_type": "stream",
     "text": [
      "RowNumber            int64\n",
      "CustomerId           int64\n",
      "Surname             object\n",
      "CreditScore          int64\n",
      "Geography           object\n",
      "Gender              object\n",
      "Age                  int64\n",
      "Tenure               int64\n",
      "Balance            float64\n",
      "NumOfProducts        int64\n",
      "HasCrCard            int64\n",
      "IsActiveMember       int64\n",
      "EstimatedSalary    float64\n",
      "Exited               int64\n",
      "dtype: object\n"
     ]
    }
   ],
   "source": [
    "# Visualizando os tipos de dados das colunas\n",
    "print(df_churn.dtypes)"
   ]
  },
  {
   "cell_type": "code",
   "execution_count": 7,
   "metadata": {},
   "outputs": [
    {
     "name": "stdout",
     "output_type": "stream",
     "text": [
      "['France' 'Spain' 'Germany']\n"
     ]
    }
   ],
   "source": [
    "# Visualizando os valores únicos na coluna Geography\n",
    "print(df_churn.Geography.unique())"
   ]
  },
  {
   "cell_type": "code",
   "execution_count": 8,
   "metadata": {},
   "outputs": [
    {
     "name": "stdout",
     "output_type": "stream",
     "text": [
      "['Female' 'Male']\n"
     ]
    }
   ],
   "source": [
    "# Visualizando os valores únicos na coluna Gender\n",
    "print(df_churn.Gender.unique())"
   ]
  },
  {
   "cell_type": "code",
   "execution_count": 9,
   "metadata": {},
   "outputs": [
    {
     "name": "stdout",
     "output_type": "stream",
     "text": [
      "['Hargrave' 'Hill' 'Onio' ... 'Kashiwagi' 'Aldridge' 'Burbidge']\n"
     ]
    }
   ],
   "source": [
    "# Visualizando os valores únicos na coluna Surname\n",
    "print(df_churn.Surname.unique())"
   ]
  },
  {
   "cell_type": "markdown",
   "metadata": {},
   "source": [
    "## Tratando os dados a serem utilizados no treinamento do algoritmo de machine learning\n",
    "\n",
    "Retirando a coluna Surname(por não ser importante nos dados), Geography e Gender\n",
    "\n",
    "Pegando os valores dummies da coluna Geography e Gender e depois concatenando com o dataframe. (converte os valores da coluna gender de female e male para uma coluna chamada male tendo valores 0 ou 1; coluna geography em vez de france, germany, spain converte para duas colunas chamadas germany e spain, ambas com valores 0 ou 1)"
   ]
  },
  {
   "cell_type": "code",
   "execution_count": 10,
   "metadata": {
    "scrolled": true
   },
   "outputs": [],
   "source": [
    "df_churn = df_churn.drop(['Surname'], axis=1)\n",
    "churn_Geography = pd.get_dummies(df_churn.Geography).iloc[:,1:]\n",
    "churn_Gender = pd.get_dummies(df_churn.Gender).iloc[:,1:]\n",
    "df_churn = df_churn.drop(['Geography', 'Gender'], axis=1)\n",
    "df_churn_clean = pd.concat([df_churn, churn_Geography, churn_Gender], axis=1)\n",
    "\n",
    "df_predict_churn = df_predict_churn.drop(['Surname'], axis=1)\n",
    "predict_churn_Geography = pd.get_dummies(df_predict_churn.Geography).iloc[:,1:]\n",
    "predict_churn_Gender = pd.get_dummies(df_predict_churn.Gender).iloc[:,1:]\n",
    "df_predict_churn = df_predict_churn.drop(['Geography', 'Gender'], axis=1)\n",
    "df_predict_churn_clean = pd.concat([df_predict_churn, predict_churn_Geography, predict_churn_Gender], axis=1)"
   ]
  },
  {
   "cell_type": "code",
   "execution_count": 11,
   "metadata": {},
   "outputs": [
    {
     "name": "stdout",
     "output_type": "stream",
     "text": [
      "      RowNumber  CustomerId  CreditScore  Age  Tenure    Balance  \\\n",
      "0             1    15634602          619   42       2       0.00   \n",
      "1             2    15647311          608   41       1   83807.86   \n",
      "2             3    15619304          502   42       8  159660.80   \n",
      "3             4    15701354          699   39       1       0.00   \n",
      "4             5    15737888          850   43       2  125510.82   \n",
      "...         ...         ...          ...  ...     ...        ...   \n",
      "9995       9996    15606229          771   39       5       0.00   \n",
      "9996       9997    15569892          516   35      10   57369.61   \n",
      "9997       9998    15584532          709   36       7       0.00   \n",
      "9998       9999    15682355          772   42       3   75075.31   \n",
      "9999      10000    15628319          792   28       4  130142.79   \n",
      "\n",
      "      NumOfProducts  HasCrCard  IsActiveMember  EstimatedSalary  Exited  \\\n",
      "0                 1          1               1        101348.88       1   \n",
      "1                 1          0               1        112542.58       0   \n",
      "2                 3          1               0        113931.57       1   \n",
      "3                 2          0               0         93826.63       0   \n",
      "4                 1          1               1         79084.10       0   \n",
      "...             ...        ...             ...              ...     ...   \n",
      "9995              2          1               0         96270.64       0   \n",
      "9996              1          1               1        101699.77       0   \n",
      "9997              1          0               1         42085.58       1   \n",
      "9998              2          1               0         92888.52       1   \n",
      "9999              1          1               0         38190.78       0   \n",
      "\n",
      "      Germany  Spain  Male  \n",
      "0           0      0     0  \n",
      "1           0      1     0  \n",
      "2           0      0     0  \n",
      "3           0      0     0  \n",
      "4           0      1     0  \n",
      "...       ...    ...   ...  \n",
      "9995        0      0     1  \n",
      "9996        0      0     1  \n",
      "9997        0      0     0  \n",
      "9998        1      0     1  \n",
      "9999        0      0     0  \n",
      "\n",
      "[10000 rows x 14 columns]\n"
     ]
    }
   ],
   "source": [
    "# Verificando se tudo ocorrou como esperado\n",
    "print(df_churn_clean)"
   ]
  },
  {
   "cell_type": "code",
   "execution_count": 12,
   "metadata": {},
   "outputs": [
    {
     "name": "stdout",
     "output_type": "stream",
     "text": [
      "     RowNumber  CustomerId  CreditScore  Age  Tenure    Balance  \\\n",
      "0        10001    15798485          565   31       1       0.00   \n",
      "1        10002    15588959          569   34       4       0.00   \n",
      "2        10003    15624896          669   20       7       0.00   \n",
      "3        10004    15639629          694   39       4  173255.48   \n",
      "4        10005    15638852          504   28      10  109291.36   \n",
      "..         ...         ...          ...  ...     ...        ...   \n",
      "995      10996    15730373          531   34      10  118306.79   \n",
      "996      10997    15716191          575   49       2  136822.70   \n",
      "997      10998    15673900          520   74       4       0.00   \n",
      "998      10999    15581432          675   23       8       0.00   \n",
      "999      11000    15669645          684   46      10       0.00   \n",
      "\n",
      "     NumOfProducts  HasCrCard  IsActiveMember  EstimatedSalary  Germany  \\\n",
      "0                1          0               1         20443.08        0   \n",
      "1                1          0               1          4045.90        0   \n",
      "2                2          1               0        128838.67        0   \n",
      "3                1          1               1         81293.10        0   \n",
      "4                1          1               1        187593.15        0   \n",
      "..             ...        ...             ...              ...      ...   \n",
      "995              1          1               0         26493.05        0   \n",
      "996              1          1               0          2487.74        1   \n",
      "997              1          0               0         26742.92        0   \n",
      "998              2          0               0        162342.21        0   \n",
      "999              2          1               0        188772.98        0   \n",
      "\n",
      "     Spain  Male  \n",
      "0        0     1  \n",
      "1        0     1  \n",
      "2        0     0  \n",
      "3        0     1  \n",
      "4        1     1  \n",
      "..     ...   ...  \n",
      "995      0     0  \n",
      "996      0     1  \n",
      "997      0     0  \n",
      "998      1     1  \n",
      "999      0     1  \n",
      "\n",
      "[1000 rows x 13 columns]\n"
     ]
    }
   ],
   "source": [
    "# Verificando se ocorrou tudo certo\n",
    "print(df_predict_churn_clean)"
   ]
  },
  {
   "cell_type": "markdown",
   "metadata": {},
   "source": [
    "## Dados estatísticos, gráficos, médias por agrupamento."
   ]
  },
  {
   "cell_type": "markdown",
   "metadata": {},
   "source": [
    "#### Gráfico de pessoas que sairam do banco e as que ainda estão nele."
   ]
  },
  {
   "cell_type": "code",
   "execution_count": 13,
   "metadata": {},
   "outputs": [
    {
     "name": "stdout",
     "output_type": "stream",
     "text": [
      "0    7963\n",
      "1    2037\n",
      "Name: Exited, dtype: int64\n"
     ]
    },
    {
     "data": {
      "image/png": "[encoded data removed]",
      "text/plain": [
       "<Figure size 432x288 with 1 Axes>"
      ]
     },
     "metadata": {
      "needs_background": "light"
     },
     "output_type": "display_data"
    }
   ],
   "source": [
    "print(df_churn_clean.Exited.value_counts())\n",
    "sns.countplot(x='Exited', data=df_churn_clean)\n",
    "plt.xticks([0, 1], ['Não saiu do banco', 'Saiu do banco'])\n",
    "plt.show()"
   ]
  },
  {
   "cell_type": "markdown",
   "metadata": {},
   "source": [
    "#### Média de valores do dataframe agrupado por aqueles que sairam e os que não sairam do banco."
   ]
  },
  {
   "cell_type": "code",
   "execution_count": 14,
   "metadata": {},
   "outputs": [
    {
     "name": "stdout",
     "output_type": "stream",
     "text": [
      "          RowNumber    CustomerId  CreditScore        Age    Tenure  \\\n",
      "Exited                                                                \n",
      "0       5024.694964  1.569117e+07   651.853196  37.408389  5.033279   \n",
      "1       4905.917526  1.569005e+07   645.351497  44.837997  4.932744   \n",
      "\n",
      "             Balance  NumOfProducts  HasCrCard  IsActiveMember  \\\n",
      "Exited                                                           \n",
      "0       72745.296779       1.544267   0.707146        0.554565   \n",
      "1       91108.539337       1.475209   0.699067        0.360825   \n",
      "\n",
      "        EstimatedSalary   Germany     Spain      Male  \n",
      "Exited                                                 \n",
      "0          99738.391772  0.212859  0.259199  0.572523  \n",
      "1         101465.677531  0.399607  0.202749  0.440844  \n"
     ]
    }
   ],
   "source": [
    "print(df_churn_clean.groupby('Exited').mean())\n",
    "#PESSOAS QUE SAIRAM DO BANCO SÃO EM MÉDIA 7 ANOS MAIS VELHAS DO QUE AS QUE ESTÃO NO BANCO, SÃO MENOS ATIVAS(IsActiveMember) \n",
    "#E TEM MAIS DINHEIRO (Balance)"
   ]
  },
  {
   "cell_type": "markdown",
   "metadata": {},
   "source": [
    "#### Média de valores do dataframe agrupado por gênero, sendo 0 = female e 1 = male."
   ]
  },
  {
   "cell_type": "code",
   "execution_count": 15,
   "metadata": {},
   "outputs": [
    {
     "name": "stdout",
     "output_type": "stream",
     "text": [
      "        RowNumber    CustomerId  CreditScore        Age    Tenure  \\\n",
      "Male                                                                \n",
      "0     4942.929562  1.569115e+07   650.831389  39.238389  4.966102   \n",
      "1     5048.427891  1.569077e+07   650.276892  38.658237  5.051677   \n",
      "\n",
      "           Balance  NumOfProducts  HasCrCard  IsActiveMember  EstimatedSalary  \\\n",
      "Male                                                                            \n",
      "0     75659.369139       1.544134   0.702619        0.502751    100601.541382   \n",
      "1     77173.974506       1.518600   0.707898        0.525380     99664.576931   \n",
      "\n",
      "        Exited   Germany     Spain  \n",
      "Male                                \n",
      "0     0.250715  0.262602  0.239709  \n",
      "1     0.164559  0.241158  0.254352  \n"
     ]
    }
   ],
   "source": [
    "print(df_churn_clean.groupby('Male').mean())\n",
    "#GENDER FEMALE NORMALMENTE SAI MAIS DA EMPRESA QUE HOMENS"
   ]
  },
  {
   "cell_type": "markdown",
   "metadata": {},
   "source": [
    "#### Gráfico mostrando os valores de pessoas que sairam e que não do banco, agrupado por gênero."
   ]
  },
  {
   "cell_type": "code",
   "execution_count": 16,
   "metadata": {},
   "outputs": [
    {
     "data": {
      "image/png": "[encoded data removed]",
      "text/plain": [
       "<Figure size 432x288 with 1 Axes>"
      ]
     },
     "metadata": {
      "needs_background": "light"
     },
     "output_type": "display_data"
    }
   ],
   "source": [
    "pd.crosstab(df_churn_clean.Male,df_churn_clean.Exited).plot(kind='bar')\n",
    "plt.title('Exited frequency for Gender')\n",
    "plt.legend(['Não saiu do banco', 'Saiu do banco'])\n",
    "plt.xticks([0, 1], ['Female', 'Male'], rotation='horizontal')\n",
    "plt.xlabel('Gender')\n",
    "plt.ylabel('Frequency of Exited')\n",
    "plt.show()"
   ]
  },
  {
   "cell_type": "markdown",
   "metadata": {},
   "source": [
    "#### Histograma de idade, faixa etaria mais frequente dos clientes do banco é entre 30 e 40 anos."
   ]
  },
  {
   "cell_type": "code",
   "execution_count": 17,
   "metadata": {
    "scrolled": true
   },
   "outputs": [
    {
     "data": {
      "image/png": "[encoded data removed]",
      "text/plain": [
       "<Figure size 432x288 with 1 Axes>"
      ]
     },
     "metadata": {
      "needs_background": "light"
     },
     "output_type": "display_data"
    }
   ],
   "source": [
    "plt.hist(df_churn_clean.Age)\n",
    "plt.title('Histogram of Age')\n",
    "plt.xlabel('Age')\n",
    "plt.ylabel('Frequency')\n",
    "plt.show()"
   ]
  },
  {
   "cell_type": "code",
   "execution_count": 18,
   "metadata": {},
   "outputs": [
    {
     "data": {
      "image/png": "[encoded data removed]",
      "text/plain": [
       "<Figure size 936x432 with 1 Axes>"
      ]
     },
     "metadata": {
      "needs_background": "light"
     },
     "output_type": "display_data"
    }
   ],
   "source": [
    "bins = [0, 10, 20, 30, 40, 50, 60, 70, 80, 90, 100]\n",
    "labels=['0-10','10-20','20-30','30-40','40-50','50-60','60-70','70-80','80-90','90-100']\n",
    "\n",
    "df_age_ranges_exited = df_churn_clean.copy()\n",
    "df_age_ranges_exited.Exited = df_age_ranges_exited.Exited.map({0: 1, 1: 0})\n",
    "df_age_ranges_exited = df_age_ranges_exited.groupby(pd.cut(df_churn_clean['Age'], bins=bins, labels=labels)).sum()\n",
    "df_age_ranges_exited.index = df_age_ranges_exited.index.rename('range')\n",
    "df_age_ranges_exited = df_age_ranges_exited.reset_index()\n",
    "\n",
    "df_age_ranges = df_churn_clean.groupby(pd.cut(df_churn_clean['Age'], bins=bins, labels=labels)).sum()\n",
    "df_age_ranges.index = df_age_ranges.index.rename('range')\n",
    "df_age_ranges = df_age_ranges.reset_index()\n",
    "\n",
    "ticks = np.array([0, 1, 2, 3, 4, 5, 6, 7, 8, 9])\n",
    "\n",
    "plt.figure(figsize=(13, 6))\n",
    "plt.bar(ticks, df_age_ranges_exited.Exited, width=0.4)\n",
    "plt.bar(ticks + 0.4, df_age_ranges.Exited, width=0.4)\n",
    "plt.xticks(ticks + 0.2, labels=['0-10','10-20','20-30','30-40','40-50','50-60','60-70','70-80','80-90','90-100'])\n",
    "plt.title('Exited frequency for age range')\n",
    "plt.xlabel('Age')\n",
    "plt.ylabel('Frequency of Exited')\n",
    "plt.legend(['Não saiu do banco', 'Saiu do banco'])\n",
    "plt.show()"
   ]
  },
  {
   "cell_type": "code",
   "execution_count": 19,
   "metadata": {},
   "outputs": [
    {
     "data": {
      "image/png": "[encoded data removed]",
      "text/plain": [
       "<Figure size 936x432 with 1 Axes>"
      ]
     },
     "metadata": {
      "needs_background": "light"
     },
     "output_type": "display_data"
    }
   ],
   "source": [
    "df_age_ranges_exited = df_churn_clean.copy()\n",
    "df_age_ranges_exited.Male = df_age_ranges_exited.Male.map({0: 1, 1: 0})\n",
    "df_age_ranges_exited = df_age_ranges_exited.groupby(pd.cut(df_churn_clean['Age'], bins=bins, labels=labels)).sum()\n",
    "df_age_ranges_exited.index = df_age_ranges_exited.index.rename('range')\n",
    "df_age_ranges_exited = df_age_ranges_exited.reset_index()\n",
    "\n",
    "df_age_ranges = df_churn_clean.groupby(pd.cut(df_churn_clean['Age'], bins=bins, labels=labels)).sum()\n",
    "df_age_ranges.index = df_age_ranges.index.rename('range')\n",
    "df_age_ranges = df_age_ranges.reset_index()\n",
    "\n",
    "ticks = np.array([0, 1, 2, 3, 4, 5, 6, 7, 8, 9])\n",
    "\n",
    "plt.figure(figsize=(13, 6))\n",
    "plt.bar(ticks, df_age_ranges_exited.Male, width=0.4)\n",
    "plt.bar(ticks + 0.4, df_age_ranges.Male, width=0.4)\n",
    "plt.xticks(ticks + 0.2, labels=['0-10','10-20','20-30','30-40','40-50','50-60','60-70','70-80','80-90','90-100'])\n",
    "plt.title('Gender frequency by age range')\n",
    "plt.xlabel('Age')\n",
    "plt.ylabel('Frequency of Gender')\n",
    "plt.legend(['Female', 'Male'])\n",
    "plt.show()"
   ]
  },
  {
   "cell_type": "code",
   "execution_count": 20,
   "metadata": {},
   "outputs": [
    {
     "name": "stdout",
     "output_type": "stream",
     "text": [
      "Standard Deviation CreditScore: 96.64846595037113\n",
      "Standard Deviation Balance: 62394.285254125454\n",
      "Standard Deviation EstimatedSalary: 57507.61722116562\n",
      "Amplitude CreditScore: 199980.90000000002\n",
      "Amplitude Balance: 250898.09\n",
      "Amplitude EstimatedSalary: 199980.90000000002\n"
     ]
    }
   ],
   "source": [
    "print(\"Standard Deviation CreditScore:\", np.std(df_churn_clean.CreditScore))\n",
    "print(\"Standard Deviation Balance:\", np.std(df_churn_clean.Balance))\n",
    "print(\"Standard Deviation EstimatedSalary:\", np.std(df_churn_clean.EstimatedSalary))\n",
    "\n",
    "print(\"Amplitude CreditScore:\", max(df_churn_clean.EstimatedSalary) - min(df_churn_clean.EstimatedSalary))\n",
    "print(\"Amplitude Balance:\", max(df_churn_clean.Balance) - min(df_churn_clean.Balance))\n",
    "print(\"Amplitude EstimatedSalary:\", max(df_churn_clean.EstimatedSalary) - min(df_churn_clean.EstimatedSalary))"
   ]
  },
  {
   "cell_type": "markdown",
   "metadata": {},
   "source": [
    "## Machine Learning"
   ]
  },
  {
   "cell_type": "markdown",
   "metadata": {},
   "source": [
    "Retirando colunas desnecessárias para o treinamento do algoritmo."
   ]
  },
  {
   "cell_type": "code",
   "execution_count": 21,
   "metadata": {},
   "outputs": [],
   "source": [
    "X = df_churn_clean.drop(['Exited', 'CustomerId', 'RowNumber'], axis=1)\n",
    "y = df_churn_clean.Exited"
   ]
  },
  {
   "cell_type": "markdown",
   "metadata": {},
   "source": [
    "Separando os dados em 80% para treinar o algoritmo e 20% para testar"
   ]
  },
  {
   "cell_type": "code",
   "execution_count": 22,
   "metadata": {},
   "outputs": [],
   "source": [
    "x_train, x_test, y_train, y_test = train_test_split(X, y, test_size=0.2)"
   ]
  },
  {
   "cell_type": "markdown",
   "metadata": {},
   "source": [
    "### Algoritmos de machine learning"
   ]
  },
  {
   "cell_type": "markdown",
   "metadata": {},
   "source": [
    "Usei o método de RandomForest por ser um dos melhores no objetivo de classificar, logo após testei também com Regressão Logistíca por que o resultado esperado é apenas 0 ou 1, também sendo um bom algoritmo de classificação binaria."
   ]
  },
  {
   "cell_type": "markdown",
   "metadata": {},
   "source": [
    "Coloquei o peso das classes(colunas) como \"balanced\" pois os dados eram muito diferentes uns dos outros, enquanto o salário estava com valores na casa de milhares, havia colunas com valores 0 ou 1."
   ]
  },
  {
   "cell_type": "code",
   "execution_count": 24,
   "metadata": {},
   "outputs": [
    {
     "name": "stdout",
     "output_type": "stream",
     "text": [
      "              precision    recall  f1-score   support\n",
      "\n",
      "           0       0.87      0.97      0.92      1563\n",
      "           1       0.82      0.47      0.60       437\n",
      "\n",
      "    accuracy                           0.86      2000\n",
      "   macro avg       0.84      0.72      0.76      2000\n",
      "weighted avg       0.86      0.86      0.85      2000\n",
      "\n",
      "[[1518   45]\n",
      " [ 230  207]]\n"
     ]
    }
   ],
   "source": [
    "# Random Forest apresenta uma boa precisão e accuracy.\n",
    "randomforest = RandomForestClassifier(n_estimators=800, class_weight=\"balanced\")  \n",
    "randomforest.fit(x_train, y_train)  \n",
    "predictions = randomforest.predict(x_test)\n",
    "print(classification_report(y_test, predictions))\n",
    "print(confusion_matrix(y_test, predictions))"
   ]
  },
  {
   "cell_type": "code",
   "execution_count": 25,
   "metadata": {
    "scrolled": true
   },
   "outputs": [
    {
     "name": "stdout",
     "output_type": "stream",
     "text": [
      "              precision    recall  f1-score   support\n",
      "\n",
      "           0       0.88      0.65      0.75      1563\n",
      "           1       0.35      0.69      0.47       437\n",
      "\n",
      "    accuracy                           0.66      2000\n",
      "   macro avg       0.62      0.67      0.61      2000\n",
      "weighted avg       0.77      0.66      0.68      2000\n",
      "\n",
      "[[1009  554]\n",
      " [ 135  302]]\n"
     ]
    }
   ],
   "source": [
    "# Logistic Regression apresenta um bom recall e uma accuracy razoável.\n",
    "logreg = LogisticRegression(max_iter=150, class_weight=\"balanced\")\n",
    "logreg.fit(x_train, y_train)\n",
    "predictions_logreg = logreg.predict(x_test)\n",
    "print(classification_report(y_test, predictions_logreg))\n",
    "print(confusion_matrix(y_test, predictions_logreg))"
   ]
  },
  {
   "cell_type": "markdown",
   "metadata": {},
   "source": [
    "## Conclusões"
   ]
  },
  {
   "cell_type": "markdown",
   "metadata": {},
   "source": [
    "Ao meu ver, pensei primeiramente em usar a random forest pela sua accuracy incrivel, mas depois notei que a regressão logística é melhor.\n",
    "Para o banco, seria melhor ter mais pessoas sendo classificadas erroneamente como que saissem do banco, para ter uma forma de contê-las na instituição (tendo bem menos prejuízo assim) do que haver pessoas classificadas como que não sairiam do banco e que acabassem saindo sem que o banco fizesse algo.\n",
    "Por isso, para avaliar a performance do algoritmo, utilizei o recall como base, que avalia pelo falso negativo, quanto maior o valor, menos falso negativo há.\n",
    "\n",
    "Caso o banco quisesse apenas saber o número de clientes estão na instituição e os que sairam, para por exemplo saber se podem expandi-lo, seria melhor a random forest."
   ]
  },
  {
   "cell_type": "markdown",
   "metadata": {},
   "source": [
    "## Prevendo os dados"
   ]
  },
  {
   "cell_type": "code",
   "execution_count": 26,
   "metadata": {},
   "outputs": [],
   "source": [
    "X_teste = df_predict_churn_clean.drop(['CustomerId', 'RowNumber'], axis=1)\n",
    "\n",
    "X = df_churn_clean.drop(['Exited', 'CustomerId', 'RowNumber'], axis=1)\n",
    "y = df_churn_clean.Exited"
   ]
  },
  {
   "cell_type": "code",
   "execution_count": 27,
   "metadata": {},
   "outputs": [],
   "source": [
    "logregression = LogisticRegression(class_weight='balanced', max_iter=150)\n",
    "logregression.fit(X, y)\n",
    "predictions = logregression.predict(X_teste)"
   ]
  },
  {
   "cell_type": "code",
   "execution_count": 28,
   "metadata": {},
   "outputs": [
    {
     "name": "stdout",
     "output_type": "stream",
     "text": [
      "     rowNumber  predictedValues\n",
      "0        10001                0\n",
      "1        10002                0\n",
      "2        10003                0\n",
      "3        10004                0\n",
      "4        10005                0\n",
      "..         ...              ...\n",
      "995      10996                1\n",
      "996      10997                1\n",
      "997      10998                1\n",
      "998      10999                0\n",
      "999      11000                0\n",
      "\n",
      "[1000 rows x 2 columns]\n"
     ]
    }
   ],
   "source": [
    "predicted_values = pd.DataFrame()\n",
    "predicted_values['rowNumber'] = df_predict_churn_clean.RowNumber\n",
    "predicted_values['predictedValues'] = predictions.reshape(-1, 1)\n",
    "print(predicted_values)"
   ]
  },
  {
   "cell_type": "code",
   "execution_count": 29,
   "metadata": {},
   "outputs": [],
   "source": [
    "#predicted_values.to_csv('Teste.csv', index = False, sep=';')"
   ]
  },
  {
   "cell_type": "code",
   "execution_count": null,
   "metadata": {},
   "outputs": [],
   "source": []
  }
 ],
 "metadata": {
  "kernelspec": {
   "display_name": "Python 3",
   "language": "python",
   "name": "python3"
  },
  "language_info": {
   "codemirror_mode": {
    "name": "ipython",
    "version": 3
   },
   "file_extension": ".py",
   "mimetype": "text/x-python",
   "name": "python",
   "nbconvert_exporter": "python",
   "pygments_lexer": "ipython3",
   "version": "3.8.3"
  }
 },
 "nbformat": 4,
 "nbformat_minor": 4
}

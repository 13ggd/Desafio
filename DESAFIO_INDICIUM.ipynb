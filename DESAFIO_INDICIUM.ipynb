{
 "cells": [
  {
   "cell_type": "markdown",
   "metadata": {},
   "source": [
    "# Data Science Challenge"
   ]
  },
  {
   "cell_type": "markdown",
   "metadata": {},
   "source": [
    "### Gabriel Garcia Deitos"
   ]
  },
  {
   "cell_type": "markdown",
   "metadata": {},
   "source": [
    "## Introdução"
   ]
  },
  {
   "cell_type": "markdown",
   "metadata": {},
   "source": [
    "Projeto realizado com o objetivo de prever o churn (abandono de clientes) de um banco de dados fictício de uma instituição financeira. utilizando o primeiro dataset chamado Abandono_clientes composto por 10000 linhas e 13 colunas de informação (features), sendo uma coluna “Exited” composta por dados binários: 1 se o cliente abandonou o banco, 0 se não, para prever o segundo dataset que possui 1000 linhas e 12 colunas e não possui a coluna “Exited”."
   ]
  },
  {
   "cell_type": "code",
   "execution_count": 1,
   "metadata": {},
   "outputs": [],
   "source": [
    "# Imports\n",
    "from matplotlib import pyplot as plt\n",
    "import pandas as pd\n",
    "import numpy as np\n",
    "from sklearn.linear_model import LogisticRegression\n",
    "from sklearn.ensemble import RandomForestClassifier\n",
    "from sklearn.model_selection import train_test_split\n",
    "from sklearn.metrics import classification_report, confusion_matrix\n",
    "import seaborn as sns"
   ]
  },
  {
   "cell_type": "markdown",
   "metadata": {},
   "source": [
    "## Arquivo csv"
   ]
  },
  {
   "cell_type": "code",
   "execution_count": 2,
   "metadata": {},
   "outputs": [],
   "source": [
    "# Convertendo o arquivo csv para pandas dataframe \n",
    "df_churn = pd.read_csv('Abandono_clientes.csv')\n",
    "df_predict_churn = pd.read_csv('Abandono_teste.csv', sep=';')"
   ]
  },
  {
   "cell_type": "markdown",
   "metadata": {},
   "source": [
    "## Visualização de dados"
   ]
  },
  {
   "cell_type": "markdown",
   "metadata": {},
   "source": [
    "#### Dataset de trinamento"
   ]
  },
  {
   "cell_type": "markdown",
   "metadata": {},
   "source": [
    "Visualização dos dois Datasets, verificando nomes das colunas, se há números nulos, tipo de dados em cada uma e valores únicos nas colunas Geography, Gender e Surname."
   ]
  },
  {
   "cell_type": "code",
   "execution_count": 3,
   "metadata": {},
   "outputs": [
    {
     "data": {
      "text/html": [
       "<div>\n",
       "<style scoped>\n",
       "    .dataframe tbody tr th:only-of-type {\n",
       "        vertical-align: middle;\n",
       "    }\n",
       "\n",
       "    .dataframe tbody tr th {\n",
       "        vertical-align: top;\n",
       "    }\n",
       "\n",
       "    .dataframe thead th {\n",
       "        text-align: right;\n",
       "    }\n",
       "</style>\n",
       "<table border=\"1\" class=\"dataframe\">\n",
       "  <thead>\n",
       "    <tr style=\"text-align: right;\">\n",
       "      <th></th>\n",
       "      <th>RowNumber</th>\n",
       "      <th>CustomerId</th>\n",
       "      <th>Surname</th>\n",
       "      <th>CreditScore</th>\n",
       "      <th>Geography</th>\n",
       "      <th>Gender</th>\n",
       "      <th>Age</th>\n",
       "      <th>Tenure</th>\n",
       "      <th>Balance</th>\n",
       "      <th>NumOfProducts</th>\n",
       "      <th>HasCrCard</th>\n",
       "      <th>IsActiveMember</th>\n",
       "      <th>EstimatedSalary</th>\n",
       "      <th>Exited</th>\n",
       "    </tr>\n",
       "  </thead>\n",
       "  <tbody>\n",
       "    <tr>\n",
       "      <th>634</th>\n",
       "      <td>635</td>\n",
       "      <td>15738181</td>\n",
       "      <td>Douglas</td>\n",
       "      <td>850</td>\n",
       "      <td>France</td>\n",
       "      <td>Male</td>\n",
       "      <td>31</td>\n",
       "      <td>6</td>\n",
       "      <td>67996.23</td>\n",
       "      <td>2</td>\n",
       "      <td>0</td>\n",
       "      <td>0</td>\n",
       "      <td>50129.87</td>\n",
       "      <td>1</td>\n",
       "    </tr>\n",
       "    <tr>\n",
       "      <th>6583</th>\n",
       "      <td>6584</td>\n",
       "      <td>15613180</td>\n",
       "      <td>Miranda</td>\n",
       "      <td>727</td>\n",
       "      <td>Germany</td>\n",
       "      <td>Male</td>\n",
       "      <td>21</td>\n",
       "      <td>8</td>\n",
       "      <td>153344.72</td>\n",
       "      <td>1</td>\n",
       "      <td>1</td>\n",
       "      <td>1</td>\n",
       "      <td>163295.87</td>\n",
       "      <td>0</td>\n",
       "    </tr>\n",
       "    <tr>\n",
       "      <th>7978</th>\n",
       "      <td>7979</td>\n",
       "      <td>15709142</td>\n",
       "      <td>Sagese</td>\n",
       "      <td>608</td>\n",
       "      <td>Germany</td>\n",
       "      <td>Female</td>\n",
       "      <td>30</td>\n",
       "      <td>2</td>\n",
       "      <td>91057.37</td>\n",
       "      <td>2</td>\n",
       "      <td>1</td>\n",
       "      <td>0</td>\n",
       "      <td>132973.17</td>\n",
       "      <td>0</td>\n",
       "    </tr>\n",
       "    <tr>\n",
       "      <th>6480</th>\n",
       "      <td>6481</td>\n",
       "      <td>15693704</td>\n",
       "      <td>Tsou</td>\n",
       "      <td>679</td>\n",
       "      <td>France</td>\n",
       "      <td>Female</td>\n",
       "      <td>24</td>\n",
       "      <td>6</td>\n",
       "      <td>114948.76</td>\n",
       "      <td>2</td>\n",
       "      <td>0</td>\n",
       "      <td>1</td>\n",
       "      <td>135768.25</td>\n",
       "      <td>0</td>\n",
       "    </tr>\n",
       "    <tr>\n",
       "      <th>4255</th>\n",
       "      <td>4256</td>\n",
       "      <td>15596228</td>\n",
       "      <td>Uwaezuoke</td>\n",
       "      <td>490</td>\n",
       "      <td>France</td>\n",
       "      <td>Male</td>\n",
       "      <td>29</td>\n",
       "      <td>4</td>\n",
       "      <td>0.00</td>\n",
       "      <td>2</td>\n",
       "      <td>1</td>\n",
       "      <td>0</td>\n",
       "      <td>32089.57</td>\n",
       "      <td>0</td>\n",
       "    </tr>\n",
       "  </tbody>\n",
       "</table>\n",
       "</div>"
      ],
      "text/plain": [
       "      RowNumber  CustomerId    Surname  CreditScore Geography  Gender  Age  \\\n",
       "634         635    15738181    Douglas          850    France    Male   31   \n",
       "6583       6584    15613180    Miranda          727   Germany    Male   21   \n",
       "7978       7979    15709142     Sagese          608   Germany  Female   30   \n",
       "6480       6481    15693704       Tsou          679    France  Female   24   \n",
       "4255       4256    15596228  Uwaezuoke          490    France    Male   29   \n",
       "\n",
       "      Tenure    Balance  NumOfProducts  HasCrCard  IsActiveMember  \\\n",
       "634        6   67996.23              2          0               0   \n",
       "6583       8  153344.72              1          1               1   \n",
       "7978       2   91057.37              2          1               0   \n",
       "6480       6  114948.76              2          0               1   \n",
       "4255       4       0.00              2          1               0   \n",
       "\n",
       "      EstimatedSalary  Exited  \n",
       "634          50129.87       1  \n",
       "6583        163295.87       0  \n",
       "7978        132973.17       0  \n",
       "6480        135768.25       0  \n",
       "4255         32089.57       0  "
      ]
     },
     "execution_count": 3,
     "metadata": {},
     "output_type": "execute_result"
    }
   ],
   "source": [
    "# Visualizando 5 linhas do dataframe\n",
    "df_churn.sample(5)"
   ]
  },
  {
   "cell_type": "code",
   "execution_count": 4,
   "metadata": {},
   "outputs": [
    {
     "data": {
      "text/plain": [
       "RowNumber          0\n",
       "CustomerId         0\n",
       "Surname            0\n",
       "CreditScore        0\n",
       "Geography          0\n",
       "Gender             0\n",
       "Age                0\n",
       "Tenure             0\n",
       "Balance            0\n",
       "NumOfProducts      0\n",
       "HasCrCard          0\n",
       "IsActiveMember     0\n",
       "EstimatedSalary    0\n",
       "Exited             0\n",
       "dtype: int64"
      ]
     },
     "execution_count": 4,
     "metadata": {},
     "output_type": "execute_result"
    }
   ],
   "source": [
    "# Verificando se há valores nulos no dataframe\n",
    "df_churn.isnull().sum()"
   ]
  },
  {
   "cell_type": "code",
   "execution_count": 5,
   "metadata": {},
   "outputs": [
    {
     "data": {
      "text/plain": [
       "Index(['RowNumber', 'CustomerId', 'Surname', 'CreditScore', 'Geography',\n",
       "       'Gender', 'Age', 'Tenure', 'Balance', 'NumOfProducts', 'HasCrCard',\n",
       "       'IsActiveMember', 'EstimatedSalary', 'Exited'],\n",
       "      dtype='object')"
      ]
     },
     "execution_count": 5,
     "metadata": {},
     "output_type": "execute_result"
    }
   ],
   "source": [
    "# Visualizando os nomes das colunas\n",
    "df_churn.columns"
   ]
  },
  {
   "cell_type": "code",
   "execution_count": 6,
   "metadata": {},
   "outputs": [
    {
     "data": {
      "text/plain": [
       "RowNumber            int64\n",
       "CustomerId           int64\n",
       "Surname             object\n",
       "CreditScore          int64\n",
       "Geography           object\n",
       "Gender              object\n",
       "Age                  int64\n",
       "Tenure               int64\n",
       "Balance            float64\n",
       "NumOfProducts        int64\n",
       "HasCrCard            int64\n",
       "IsActiveMember       int64\n",
       "EstimatedSalary    float64\n",
       "Exited               int64\n",
       "dtype: object"
      ]
     },
     "execution_count": 6,
     "metadata": {},
     "output_type": "execute_result"
    }
   ],
   "source": [
    "# Visualizando os tipos de dados das colunas\n",
    "df_churn.dtypes"
   ]
  },
  {
   "cell_type": "code",
   "execution_count": 7,
   "metadata": {},
   "outputs": [
    {
     "data": {
      "text/plain": [
       "array(['France', 'Spain', 'Germany'], dtype=object)"
      ]
     },
     "execution_count": 7,
     "metadata": {},
     "output_type": "execute_result"
    }
   ],
   "source": [
    "# Visualizando os valores únicos na coluna Geography\n",
    "df_churn.Geography.unique()"
   ]
  },
  {
   "cell_type": "code",
   "execution_count": 8,
   "metadata": {},
   "outputs": [
    {
     "data": {
      "text/plain": [
       "array(['Female', 'Male'], dtype=object)"
      ]
     },
     "execution_count": 8,
     "metadata": {},
     "output_type": "execute_result"
    }
   ],
   "source": [
    "# Visualizando os valores únicos na coluna Gender\n",
    "df_churn.Gender.unique()"
   ]
  },
  {
   "cell_type": "code",
   "execution_count": 9,
   "metadata": {},
   "outputs": [
    {
     "data": {
      "text/plain": [
       "array(['Hargrave', 'Hill', 'Onio', ..., 'Kashiwagi', 'Aldridge',\n",
       "       'Burbidge'], dtype=object)"
      ]
     },
     "execution_count": 9,
     "metadata": {},
     "output_type": "execute_result"
    }
   ],
   "source": [
    "# Visualizando os valores únicos na coluna Surname\n",
    "df_churn.Surname.unique()"
   ]
  },
  {
   "cell_type": "markdown",
   "metadata": {},
   "source": [
    "### Dataset para prever"
   ]
  },
  {
   "cell_type": "code",
   "execution_count": 10,
   "metadata": {},
   "outputs": [
    {
     "data": {
      "text/html": [
       "<div>\n",
       "<style scoped>\n",
       "    .dataframe tbody tr th:only-of-type {\n",
       "        vertical-align: middle;\n",
       "    }\n",
       "\n",
       "    .dataframe tbody tr th {\n",
       "        vertical-align: top;\n",
       "    }\n",
       "\n",
       "    .dataframe thead th {\n",
       "        text-align: right;\n",
       "    }\n",
       "</style>\n",
       "<table border=\"1\" class=\"dataframe\">\n",
       "  <thead>\n",
       "    <tr style=\"text-align: right;\">\n",
       "      <th></th>\n",
       "      <th>RowNumber</th>\n",
       "      <th>CustomerId</th>\n",
       "      <th>Surname</th>\n",
       "      <th>CreditScore</th>\n",
       "      <th>Geography</th>\n",
       "      <th>Gender</th>\n",
       "      <th>Age</th>\n",
       "      <th>Tenure</th>\n",
       "      <th>Balance</th>\n",
       "      <th>NumOfProducts</th>\n",
       "      <th>HasCrCard</th>\n",
       "      <th>IsActiveMember</th>\n",
       "      <th>EstimatedSalary</th>\n",
       "    </tr>\n",
       "  </thead>\n",
       "  <tbody>\n",
       "    <tr>\n",
       "      <th>361</th>\n",
       "      <td>10362</td>\n",
       "      <td>15670660</td>\n",
       "      <td>Craig</td>\n",
       "      <td>681</td>\n",
       "      <td>France</td>\n",
       "      <td>Male</td>\n",
       "      <td>33</td>\n",
       "      <td>2</td>\n",
       "      <td>0.00</td>\n",
       "      <td>2</td>\n",
       "      <td>1</td>\n",
       "      <td>0</td>\n",
       "      <td>12634.43</td>\n",
       "    </tr>\n",
       "    <tr>\n",
       "      <th>802</th>\n",
       "      <td>10803</td>\n",
       "      <td>15675187</td>\n",
       "      <td>Rose</td>\n",
       "      <td>640</td>\n",
       "      <td>Spain</td>\n",
       "      <td>Male</td>\n",
       "      <td>47</td>\n",
       "      <td>7</td>\n",
       "      <td>144859.60</td>\n",
       "      <td>1</td>\n",
       "      <td>0</td>\n",
       "      <td>1</td>\n",
       "      <td>160034.00</td>\n",
       "    </tr>\n",
       "    <tr>\n",
       "      <th>741</th>\n",
       "      <td>10742</td>\n",
       "      <td>15640949</td>\n",
       "      <td>Campbell</td>\n",
       "      <td>723</td>\n",
       "      <td>Germany</td>\n",
       "      <td>Female</td>\n",
       "      <td>46</td>\n",
       "      <td>9</td>\n",
       "      <td>68081.01</td>\n",
       "      <td>1</td>\n",
       "      <td>0</td>\n",
       "      <td>1</td>\n",
       "      <td>138138.62</td>\n",
       "    </tr>\n",
       "    <tr>\n",
       "      <th>990</th>\n",
       "      <td>10991</td>\n",
       "      <td>15602856</td>\n",
       "      <td>Faith</td>\n",
       "      <td>802</td>\n",
       "      <td>France</td>\n",
       "      <td>Female</td>\n",
       "      <td>55</td>\n",
       "      <td>4</td>\n",
       "      <td>107137.84</td>\n",
       "      <td>1</td>\n",
       "      <td>1</td>\n",
       "      <td>1</td>\n",
       "      <td>182054.40</td>\n",
       "    </tr>\n",
       "    <tr>\n",
       "      <th>765</th>\n",
       "      <td>10766</td>\n",
       "      <td>15794991</td>\n",
       "      <td>Weston</td>\n",
       "      <td>590</td>\n",
       "      <td>France</td>\n",
       "      <td>Male</td>\n",
       "      <td>42</td>\n",
       "      <td>4</td>\n",
       "      <td>89309.66</td>\n",
       "      <td>1</td>\n",
       "      <td>1</td>\n",
       "      <td>1</td>\n",
       "      <td>192468.85</td>\n",
       "    </tr>\n",
       "  </tbody>\n",
       "</table>\n",
       "</div>"
      ],
      "text/plain": [
       "     RowNumber  CustomerId   Surname  CreditScore Geography  Gender  Age  \\\n",
       "361      10362    15670660     Craig          681    France    Male   33   \n",
       "802      10803    15675187      Rose          640     Spain    Male   47   \n",
       "741      10742    15640949  Campbell          723   Germany  Female   46   \n",
       "990      10991    15602856     Faith          802    France  Female   55   \n",
       "765      10766    15794991    Weston          590    France    Male   42   \n",
       "\n",
       "     Tenure    Balance  NumOfProducts  HasCrCard  IsActiveMember  \\\n",
       "361       2       0.00              2          1               0   \n",
       "802       7  144859.60              1          0               1   \n",
       "741       9   68081.01              1          0               1   \n",
       "990       4  107137.84              1          1               1   \n",
       "765       4   89309.66              1          1               1   \n",
       "\n",
       "     EstimatedSalary  \n",
       "361         12634.43  \n",
       "802        160034.00  \n",
       "741        138138.62  \n",
       "990        182054.40  \n",
       "765        192468.85  "
      ]
     },
     "execution_count": 10,
     "metadata": {},
     "output_type": "execute_result"
    }
   ],
   "source": [
    "# Visualizando 5 linhas do dataframe\n",
    "df_predict_churn.sample(5)"
   ]
  },
  {
   "cell_type": "code",
   "execution_count": 11,
   "metadata": {},
   "outputs": [
    {
     "data": {
      "text/plain": [
       "RowNumber          0\n",
       "CustomerId         0\n",
       "Surname            0\n",
       "CreditScore        0\n",
       "Geography          0\n",
       "Gender             0\n",
       "Age                0\n",
       "Tenure             0\n",
       "Balance            0\n",
       "NumOfProducts      0\n",
       "HasCrCard          0\n",
       "IsActiveMember     0\n",
       "EstimatedSalary    0\n",
       "dtype: int64"
      ]
     },
     "execution_count": 11,
     "metadata": {},
     "output_type": "execute_result"
    }
   ],
   "source": [
    "# Verificando se há valores nulos no dataframe\n",
    "df_predict_churn.isnull().sum()"
   ]
  },
  {
   "cell_type": "code",
   "execution_count": 12,
   "metadata": {},
   "outputs": [
    {
     "data": {
      "text/plain": [
       "Index(['RowNumber', 'CustomerId', 'Surname', 'CreditScore', 'Geography',\n",
       "       'Gender', 'Age', 'Tenure', 'Balance', 'NumOfProducts', 'HasCrCard',\n",
       "       'IsActiveMember', 'EstimatedSalary'],\n",
       "      dtype='object')"
      ]
     },
     "execution_count": 12,
     "metadata": {},
     "output_type": "execute_result"
    }
   ],
   "source": [
    "# Visualizando os nomes das colunas\n",
    "df_predict_churn.columns"
   ]
  },
  {
   "cell_type": "code",
   "execution_count": 13,
   "metadata": {},
   "outputs": [
    {
     "data": {
      "text/plain": [
       "RowNumber            int64\n",
       "CustomerId           int64\n",
       "Surname             object\n",
       "CreditScore          int64\n",
       "Geography           object\n",
       "Gender              object\n",
       "Age                  int64\n",
       "Tenure               int64\n",
       "Balance            float64\n",
       "NumOfProducts        int64\n",
       "HasCrCard            int64\n",
       "IsActiveMember       int64\n",
       "EstimatedSalary    float64\n",
       "dtype: object"
      ]
     },
     "execution_count": 13,
     "metadata": {},
     "output_type": "execute_result"
    }
   ],
   "source": [
    "# Visualizando os tipos de dados das colunas\n",
    "df_predict_churn.dtypes"
   ]
  },
  {
   "cell_type": "code",
   "execution_count": 14,
   "metadata": {},
   "outputs": [
    {
     "data": {
      "text/plain": [
       "array(['France', 'Spain', 'Germany'], dtype=object)"
      ]
     },
     "execution_count": 14,
     "metadata": {},
     "output_type": "execute_result"
    }
   ],
   "source": [
    "# Visualizando os valores únicos na coluna Geography\n",
    "df_predict_churn.Geography.unique()"
   ]
  },
  {
   "cell_type": "code",
   "execution_count": 15,
   "metadata": {},
   "outputs": [
    {
     "data": {
      "text/plain": [
       "array(['Male', 'Female'], dtype=object)"
      ]
     },
     "execution_count": 15,
     "metadata": {},
     "output_type": "execute_result"
    }
   ],
   "source": [
    "# Visualizando os valores únicos na coluna Gender\n",
    "df_predict_churn.Gender.unique()"
   ]
  },
  {
   "cell_type": "code",
   "execution_count": 16,
   "metadata": {},
   "outputs": [
    {
     "data": {
      "text/plain": [
       "array(['Copley', \"T'ang\", 'Ku', 'McConnan', \"Ts'ui\", 'Mackenzie',\n",
       "       'Sharpe', 'Chuang', 'Seely', 'Chienezie', 'Fan', 'Allan',\n",
       "       'Colombo', 'Chandler', 'Henderson', 'Macleod', 'Curley', 'Owens',\n",
       "       'Cooke', 'Parkinson', 'Pratt', 'Coggins', \"Ts'ai\", 'Chipper',\n",
       "       'Mazzi', 'Chiang', 'Connors', 'McIntyre', 'McIntosh', 'Stevens',\n",
       "       'Okoli', 'Panina', 'Graham', 'Daniels', 'Kerr', 'Bethea', 'Hart',\n",
       "       'Coleman', 'Stevenson', 'Watson', 'Romano', 'Tseng', 'Feng',\n",
       "       'Calabresi', 'Ashton', 'Chiu', 'Tudor', 'Walters', \"T'an\",\n",
       "       'Clisby', 'Craig', 'Bianchi', 'Rogers', 'Kryukova', 'Dean',\n",
       "       'Jamieson', 'Monaldo', 'Kelly', 'Bell', 'Campbell', 'Hubbard',\n",
       "       'Smith', 'Ndubuisi', 'Chen', 'Hamilton', 'Hayes', 'Kay',\n",
       "       'Landreth', 'Wan', 'Tu', 'Kao', 'Michie', 'Chang', 'Choi', 'Lei',\n",
       "       'Zuyev', 'Morgan', 'Douglas', 'Yeh', 'Black', 'Brookes', 'Belonwu',\n",
       "       'Odinakachukwu', 'Tsui', 'Onuchukwu', 'Swanson', 'Okwuoma',\n",
       "       'Eberechukwu', 'Chukwumaobim', 'Tomlinson', 'Gibson', 'Johnson',\n",
       "       'Childe', 'Murray', 'Ford', 'Masters', 'Hughes', 'Ugonna', 'Fu',\n",
       "       'Bevan', 'Beneventi', \"K'ung\", 'Russell', 'Lacey', 'Onyekaozulu',\n",
       "       'Ibekwe', 'Rapuokwu', 'Chieloka', 'Eremenko', 'Wei', 'Fargher',\n",
       "       'Peng', 'Sung', 'H?', 'Hsia', 'Ukaegbulam', 'Bryant', 'Teng',\n",
       "       'Walch', 'Zikoranaudodimma', 'Ferrari', 'Pisani', 'Ifeanyichukwu',\n",
       "       'Capon', 'Ham', 'Onyeorulu', 'Onwuamaegbu', 'Lai', 'Moseley',\n",
       "       'MacDonald', 'Onio', 'Reid', 'Milano', 'Kazantseva', 'Lawrence',\n",
       "       'Myers', 'Rogova', 'Coward', 'Sleigh', 'Birch', 'Parkes', 'Robson',\n",
       "       'Liao', 'Kohler', 'Alexander', 'Onwuka', 'Witt', 'Maclean',\n",
       "       'Barese', 'Pemulwuy', 'Etheridge', 'Aleksandrova', 'Gray',\n",
       "       'Blacklock', 'Johnstone', 'Hao', 'Y?', 'Cook', 'Chikezie', 'Cox',\n",
       "       'Potts', 'Hu', 'Little', 'Norton', 'Padbury', 'Clements',\n",
       "       'Shepherd', 'Somayina', 'Frost', 'Burdekin', 'Ferri', 'Tillman',\n",
       "       'Harris', 'Gough', 'Niu', 'Burns', 'Napolitani', 'Ting', 'French',\n",
       "       'Jones', 'Kovalyov', 'Ojiofor', 'Hsu', 'Howard', 'McKenzie',\n",
       "       'Istomin', \"P'eng\", 'Sopuluchukwu', 'Chukwujekwu', 'Siciliano',\n",
       "       'Julia', 'Loginov', 'Shaw', 'Hsing', 'Williamson', 'Ko', 'McKay',\n",
       "       'Onyemere', 'Boyle', 'Sadler', 'Fletcher', 'Cameron', 'Ashby',\n",
       "       'Whitworth', \"O'May\", 'Piccio', 'Chukwubuikem', 'Dangelo',\n",
       "       'Thomson', 'Scoggins', 'Bradley', 'Howe', 'Snodgrass', 'Blackburn',\n",
       "       'Walton', 'Grandi', 'Carter', 'Chiazagomekpele', 'Wyatt',\n",
       "       'Mitchell', 'Trouton', 'Shanahan', 'Hansman', 'Kent', 'Harrah',\n",
       "       'Wade', 'Taylor', 'Turner', 'Sanderson', 'Braddock', 'Mamelu',\n",
       "       'Yen', 'Bates', 'Wilkins', 'Clark', \"T'ien\", 'Kirk', 'He',\n",
       "       'Woodward', 'Anderson', 'Geisler', 'Chou', 'Tai', 'Mazzanti',\n",
       "       'Ruthven', 'Sholl', 'Greece', 'Dumetolisa', 'Howarde', 'Chidiegwu',\n",
       "       'Ali', 'Milne', 'Kung', 'Heath', 'Seleznyov', 'Lorenzo',\n",
       "       'Fiorentini', 'Sneed', 'Gallo', 'Cunningham', 'Nwebube', 'Wallace',\n",
       "       'McCloughry', \"Ch'eng\", 'Pirozzi', 'Chidinma', 'Onwudiwe',\n",
       "       'Ekwueme', 'Sutton', \"Ch'en\", 'Strehlow', 'Nnanna', 'Bruno',\n",
       "       'Peacock', 'Adorno', 'Pearson', 'Diribe', 'Manfrin', 'McLean',\n",
       "       'Warner', 'McMillan', 'Trentini', 'McGahey', 'Chauncy',\n",
       "       'Gwendolen', 'DeRose', 'Yang', 'McCarthy', 'Milanesi', 'Golovanov',\n",
       "       'Romani', 'Cleveland', 'Lucchese', 'Obiora', 'Blamey', 'Murphy',\n",
       "       'Knight', 'Yuan', 'Afanasyev', 'Iheanacho', 'Docherty', 'Hs?',\n",
       "       'Li Fonti', 'Reynolds', 'Spencer', 'Marshall', 'Goodwin',\n",
       "       'Ainslie', 'Sagese', 'Ni', 'Anisimov', 'Yao', 'Dudley', 'Chidubem',\n",
       "       'Gibbs', 'Lucchesi', 'Uvarov', 'Schiavone', 'Dickson', 'King',\n",
       "       'Gardner', 'Hsiao', 'Ramos', 'Moore', 'Arnold', 'Chukwunonso',\n",
       "       'Johnston', \"T'ao\", 'Obielumani', 'Tien', 'Close', 'Orchard',\n",
       "       'Styles', 'Lower', 'L?', 'Kauffmann', 'Ferguson', 'Faulkner',\n",
       "       'Munoz', 'Merchant', 'Hancock', 'Ramirez', 'Mancha', 'Simon',\n",
       "       'Davison', 'Belmore', 'Chao', 'Baresi', 'Mistry', 'Baillieu',\n",
       "       'Sal', 'Milam', 'Chinomso', 'Longo', 'Bruce', 'Ludowici',\n",
       "       'Onyekachi', 'Farmer', 'Kruse', 'Garden', 'Grant', 'Evans', 'Kaur',\n",
       "       'Slater', 'Robinette', 'McCorkindale', 'Duff', 'Rhodes', 'Azikiwe',\n",
       "       'Pagnotto', 'Main', 'Okwukwe', 'Hurst', 'Lori', 'Fraser',\n",
       "       'Palermo', 'Marino', 'Hutchinson', 'Denisova', 'Obidimkpa',\n",
       "       'Sullivan', 'Hunt', \"Ch'ang\", 'Zox', 'Bolton', 'She', 'Buccho',\n",
       "       'Tochukwu', 'Cleary', 'Piazza', 'Hsueh', 'Ugochukwutubelum',\n",
       "       'Roberts', 'Ricci', 'Genovesi', 'Tsou', 'Nazarova', 'Komarov',\n",
       "       'Sochima', 'Obinna', 'Giordano', 'Dike', 'Mbanefo', 'Liu',\n",
       "       'Marcelo', 'Jideofor', 'Lombardi', 'Millar', 'Hernandez', 'Badham',\n",
       "       'Coldham', 'Folliero', 'Belyakova', 'Conder', 'Mullawirraburka',\n",
       "       'Mann', 'Raber', 'Burgess', 'Hicklin', 'Field', 'Parrish',\n",
       "       'Stewart', 'Milani', 'Conway', 'Maum', 'Kang', 'Reed', 'Loggia',\n",
       "       'Chadwick', 'Rowe', 'Nelson', 'Wroe', 'Haire', 'Gregory',\n",
       "       'Fralick', 'Chinwendu', 'Leal', 'Metz', 'Chiemela', 'Mishin',\n",
       "       'McAllister', 'Lewis', 'Echezonachukwu', 'Pan', 'Kovaleva',\n",
       "       'Glasgow', 'Sanger', 'Wilson', 'Hardy', 'Cocci', 'Weigall', 'Chu',\n",
       "       'Leach', 'Cheng', 'Udinese', 'Espinoza', 'Onwughara', 'Chidi',\n",
       "       'Wurth', 'Nixon', 'Siciliani', 'Stallings', 'Williams', 'Hayward',\n",
       "       'Ibarra', 'Doherty', 'Chukwujamuike', 'Jen', 'Nnamdi', 'Ikenna',\n",
       "       \"P'an\", 'Chioke', 'Duncan', \"O'Flynn\", 'Charlton', 'Chifo',\n",
       "       'Beggs', 'Sanders', 'Morris', 'Byrd', 'Frolov', 'Bock',\n",
       "       'Ponomaryova', 'Chidozie', 'Broadbent', 'Hay', 'Meng', 'Rossi',\n",
       "       'Madukaife', 'Chancey', 'Foster', 'Wilcox', 'Crawford', 'Davis',\n",
       "       'Zito', 'Daintree', 'Reeves', 'Davidson', 'Pinheiro', 'Okorie',\n",
       "       'Kuo', 'Chukwuemeka', 'Bennetts', 'Watts', 'Yusupov', 'Nnaemeka',\n",
       "       'Tao', 'Duarte', 'Belov', 'Baines', 'Esposito', 'Nnaife',\n",
       "       'Henslowe', 'Kirby', 'Riley', 'Lazarev', 'Buchi', 'Avdeyeva',\n",
       "       'Briggs', 'Blyth', 'Franklin', 'Fitz', 'Onochie', 'Stephens',\n",
       "       'Oddie', 'Amaechi', 'Ozerov', 'Ball', 'Moubray', 'Chinwemma',\n",
       "       'Belova', 'Matveyeva', 'Disney', 'Ngozichukwuka', 'Aitken',\n",
       "       'Brown', 'Wang', 'Ross', 'Givan', 'Cohen', 'Artyomova', 'Anenechi',\n",
       "       'Dumetochukwu', 'Zetticci', 'Hung', 'Ejikemeifeuwa', 'Mironov',\n",
       "       'Ibragimova', 'Kemp', 'Wheeler', 'Hogue', 'Chiemeka', 'Chiawuotu',\n",
       "       'Solly', 'Wall', 'Kharlamov', 'Goodisson', 'Hargreaves',\n",
       "       'Chiagoziem', 'Nebechukwu', 'Chidalu', 'Atkinson', 'Khan',\n",
       "       'Harrison', 'Fiveash', 'James', 'Beluchi', 'Bellucci', 'Iadanza',\n",
       "       'Andreeff', 'Bourke', 'Miller', 'Calabrese', 'Okwuadigbo', 'Lamb',\n",
       "       'Colon', 'Liang', 'Hodgson', 'Todd', 'Stone-Wigg', 'Andreev',\n",
       "       'Hs?eh', 'Lo Duca', 'Whitehead', 'Weston', \"Ts'ao\", 'Glasfurd',\n",
       "       'Ho', 'Fiorentino', 'Yates', 'Thornton', 'Kiley', 'Yudina',\n",
       "       'Maduabuchim', 'Matthews', \"O'Donnell\", 'Dunn', 'Coburn', 'Su',\n",
       "       'Manna', 'Shao', 'Gordon', 'Hobbs', 'Rose', 'Voronkov', 'Deason',\n",
       "       'Blake', 'Geiser', 'Otitodilinna', 'Mancini', 'Fitzgibbons',\n",
       "       'Abramov', 'Krimmer', 'Chukwuraenye', 'Martin', 'Maurice',\n",
       "       'Alexeeva', 'Zaitsev', 'Fanucci', 'Whitham', 'Sun', 'Aksakov',\n",
       "       'Talbot', 'Arcuri', 'Zaitseva', 'Sellers', 'Mai', 'Crosby',\n",
       "       'Sokolov', 'Ositadimma', 'Lockington', 'Ida', 'Browning', 'Ryland',\n",
       "       'Sykes', 'Boyd', 'Whitley', 'Clamp', 'Pai', 'Garling', 'Gilliam',\n",
       "       'Hogarth', 'Akhtar', 'K?', 'Gallagher', 'Anenechukwu', 'Laycock',\n",
       "       'Walsh', 'Young', 'Meadows', 'Degtyarev', 'Madueke', 'Hill',\n",
       "       'Baker', 'McHugh', 'Tribble', 'Henry', 'Thomas', 'Chung',\n",
       "       'Dickinson', 'Bosisto', 'Archer', 'Kline', 'Howell',\n",
       "       'Chukwufumnanya', 'Napolitano', 'Huang', 'Shorter', 'Phillips',\n",
       "       'Robertson', 'Keesee', 'Osonduagwuike', 'Li', 'Chien',\n",
       "       'Donnithorne', 'White', 'Kennedy', 'Tsai', 'Mackay', 'Hammond',\n",
       "       'Chia', 'Fokina', 'Sidorov', 'Sainthill', 'Finch', 'Reimann',\n",
       "       'Fallaci', 'Chidumaga', 'Trevisan', 'Yu', 'Jenkin', 'Lowrie',\n",
       "       'Barber', 'Bazarov', 'Easty', 'Bergamaschi', 'Burton', 'Chizuoke',\n",
       "       'Castiglione', 'Wright', 'Kudryashova', 'Kodilinyechukwu', 'Y?an',\n",
       "       'Villarreal', 'Walker', 'Brinsmead', 'Faith', 'Panicucci',\n",
       "       'Davide', 'Cross', 'Starks', 'Dixon', 'Wilkinson', 'Oatley',\n",
       "       'Tyler'], dtype=object)"
      ]
     },
     "execution_count": 16,
     "metadata": {},
     "output_type": "execute_result"
    }
   ],
   "source": [
    "# Visualizando os valores únicos na coluna Surname\n",
    "df_predict_churn.Surname.unique()"
   ]
  },
  {
   "cell_type": "markdown",
   "metadata": {},
   "source": [
    "## Tratando os dados a serem utilizados no treinamento do algoritmo de machine learning\n",
    "\n",
    "Retirando a coluna Surname(por não ser importante nos dados), Geography e Gender\n",
    "\n",
    "Pegando os valores dummies da coluna Geography e Gender e depois concatenando com o dataframe. (converte os valores da coluna gender de female e male para uma coluna chamada male tendo valores 0 ou 1; coluna geography em vez de france, germany, spain converte para duas colunas chamadas germany e spain, ambas com valores 0 ou 1)"
   ]
  },
  {
   "cell_type": "code",
   "execution_count": 17,
   "metadata": {
    "scrolled": true
   },
   "outputs": [],
   "source": [
    "df_churn_clean = df_churn.drop(['Surname'], axis=1)\n",
    "churn_Geography = pd.get_dummies(df_churn_clean.Geography).iloc[:,1:]\n",
    "churn_Gender = pd.get_dummies(df_churn_clean.Gender).iloc[:,1:]\n",
    "df_churn_clean = df_churn_clean.drop(['Geography', 'Gender'], axis=1)\n",
    "df_churn_clean = pd.concat([df_churn_clean, churn_Geography, churn_Gender], axis=1)\n",
    "\n",
    "df_predict_churn = df_predict_churn.drop(['Surname'], axis=1)\n",
    "predict_churn_Geography = pd.get_dummies(df_predict_churn.Geography).iloc[:,1:]\n",
    "predict_churn_Gender = pd.get_dummies(df_predict_churn.Gender).iloc[:,1:]\n",
    "df_predict_churn = df_predict_churn.drop(['Geography', 'Gender'], axis=1)"
   ]
  },
  {
   "cell_type": "code",
   "execution_count": 18,
   "metadata": {},
   "outputs": [],
   "source": [
    "#Contatenando o as tabelas acima com o dataframe\n",
    "df_predict_churn_clean = pd.concat([df_predict_churn, predict_churn_Geography, predict_churn_Gender], axis=1)"
   ]
  },
  {
   "cell_type": "code",
   "execution_count": 19,
   "metadata": {},
   "outputs": [
    {
     "data": {
      "text/html": [
       "<div>\n",
       "<style scoped>\n",
       "    .dataframe tbody tr th:only-of-type {\n",
       "        vertical-align: middle;\n",
       "    }\n",
       "\n",
       "    .dataframe tbody tr th {\n",
       "        vertical-align: top;\n",
       "    }\n",
       "\n",
       "    .dataframe thead th {\n",
       "        text-align: right;\n",
       "    }\n",
       "</style>\n",
       "<table border=\"1\" class=\"dataframe\">\n",
       "  <thead>\n",
       "    <tr style=\"text-align: right;\">\n",
       "      <th></th>\n",
       "      <th>RowNumber</th>\n",
       "      <th>CustomerId</th>\n",
       "      <th>CreditScore</th>\n",
       "      <th>Age</th>\n",
       "      <th>Tenure</th>\n",
       "      <th>Balance</th>\n",
       "      <th>NumOfProducts</th>\n",
       "      <th>HasCrCard</th>\n",
       "      <th>IsActiveMember</th>\n",
       "      <th>EstimatedSalary</th>\n",
       "      <th>Exited</th>\n",
       "      <th>Germany</th>\n",
       "      <th>Spain</th>\n",
       "      <th>Male</th>\n",
       "    </tr>\n",
       "  </thead>\n",
       "  <tbody>\n",
       "    <tr>\n",
       "      <th>0</th>\n",
       "      <td>1</td>\n",
       "      <td>15634602</td>\n",
       "      <td>619</td>\n",
       "      <td>42</td>\n",
       "      <td>2</td>\n",
       "      <td>0.00</td>\n",
       "      <td>1</td>\n",
       "      <td>1</td>\n",
       "      <td>1</td>\n",
       "      <td>101348.88</td>\n",
       "      <td>1</td>\n",
       "      <td>0</td>\n",
       "      <td>0</td>\n",
       "      <td>0</td>\n",
       "    </tr>\n",
       "    <tr>\n",
       "      <th>1</th>\n",
       "      <td>2</td>\n",
       "      <td>15647311</td>\n",
       "      <td>608</td>\n",
       "      <td>41</td>\n",
       "      <td>1</td>\n",
       "      <td>83807.86</td>\n",
       "      <td>1</td>\n",
       "      <td>0</td>\n",
       "      <td>1</td>\n",
       "      <td>112542.58</td>\n",
       "      <td>0</td>\n",
       "      <td>0</td>\n",
       "      <td>1</td>\n",
       "      <td>0</td>\n",
       "    </tr>\n",
       "    <tr>\n",
       "      <th>2</th>\n",
       "      <td>3</td>\n",
       "      <td>15619304</td>\n",
       "      <td>502</td>\n",
       "      <td>42</td>\n",
       "      <td>8</td>\n",
       "      <td>159660.80</td>\n",
       "      <td>3</td>\n",
       "      <td>1</td>\n",
       "      <td>0</td>\n",
       "      <td>113931.57</td>\n",
       "      <td>1</td>\n",
       "      <td>0</td>\n",
       "      <td>0</td>\n",
       "      <td>0</td>\n",
       "    </tr>\n",
       "    <tr>\n",
       "      <th>3</th>\n",
       "      <td>4</td>\n",
       "      <td>15701354</td>\n",
       "      <td>699</td>\n",
       "      <td>39</td>\n",
       "      <td>1</td>\n",
       "      <td>0.00</td>\n",
       "      <td>2</td>\n",
       "      <td>0</td>\n",
       "      <td>0</td>\n",
       "      <td>93826.63</td>\n",
       "      <td>0</td>\n",
       "      <td>0</td>\n",
       "      <td>0</td>\n",
       "      <td>0</td>\n",
       "    </tr>\n",
       "    <tr>\n",
       "      <th>4</th>\n",
       "      <td>5</td>\n",
       "      <td>15737888</td>\n",
       "      <td>850</td>\n",
       "      <td>43</td>\n",
       "      <td>2</td>\n",
       "      <td>125510.82</td>\n",
       "      <td>1</td>\n",
       "      <td>1</td>\n",
       "      <td>1</td>\n",
       "      <td>79084.10</td>\n",
       "      <td>0</td>\n",
       "      <td>0</td>\n",
       "      <td>1</td>\n",
       "      <td>0</td>\n",
       "    </tr>\n",
       "    <tr>\n",
       "      <th>...</th>\n",
       "      <td>...</td>\n",
       "      <td>...</td>\n",
       "      <td>...</td>\n",
       "      <td>...</td>\n",
       "      <td>...</td>\n",
       "      <td>...</td>\n",
       "      <td>...</td>\n",
       "      <td>...</td>\n",
       "      <td>...</td>\n",
       "      <td>...</td>\n",
       "      <td>...</td>\n",
       "      <td>...</td>\n",
       "      <td>...</td>\n",
       "      <td>...</td>\n",
       "    </tr>\n",
       "    <tr>\n",
       "      <th>9995</th>\n",
       "      <td>9996</td>\n",
       "      <td>15606229</td>\n",
       "      <td>771</td>\n",
       "      <td>39</td>\n",
       "      <td>5</td>\n",
       "      <td>0.00</td>\n",
       "      <td>2</td>\n",
       "      <td>1</td>\n",
       "      <td>0</td>\n",
       "      <td>96270.64</td>\n",
       "      <td>0</td>\n",
       "      <td>0</td>\n",
       "      <td>0</td>\n",
       "      <td>1</td>\n",
       "    </tr>\n",
       "    <tr>\n",
       "      <th>9996</th>\n",
       "      <td>9997</td>\n",
       "      <td>15569892</td>\n",
       "      <td>516</td>\n",
       "      <td>35</td>\n",
       "      <td>10</td>\n",
       "      <td>57369.61</td>\n",
       "      <td>1</td>\n",
       "      <td>1</td>\n",
       "      <td>1</td>\n",
       "      <td>101699.77</td>\n",
       "      <td>0</td>\n",
       "      <td>0</td>\n",
       "      <td>0</td>\n",
       "      <td>1</td>\n",
       "    </tr>\n",
       "    <tr>\n",
       "      <th>9997</th>\n",
       "      <td>9998</td>\n",
       "      <td>15584532</td>\n",
       "      <td>709</td>\n",
       "      <td>36</td>\n",
       "      <td>7</td>\n",
       "      <td>0.00</td>\n",
       "      <td>1</td>\n",
       "      <td>0</td>\n",
       "      <td>1</td>\n",
       "      <td>42085.58</td>\n",
       "      <td>1</td>\n",
       "      <td>0</td>\n",
       "      <td>0</td>\n",
       "      <td>0</td>\n",
       "    </tr>\n",
       "    <tr>\n",
       "      <th>9998</th>\n",
       "      <td>9999</td>\n",
       "      <td>15682355</td>\n",
       "      <td>772</td>\n",
       "      <td>42</td>\n",
       "      <td>3</td>\n",
       "      <td>75075.31</td>\n",
       "      <td>2</td>\n",
       "      <td>1</td>\n",
       "      <td>0</td>\n",
       "      <td>92888.52</td>\n",
       "      <td>1</td>\n",
       "      <td>1</td>\n",
       "      <td>0</td>\n",
       "      <td>1</td>\n",
       "    </tr>\n",
       "    <tr>\n",
       "      <th>9999</th>\n",
       "      <td>10000</td>\n",
       "      <td>15628319</td>\n",
       "      <td>792</td>\n",
       "      <td>28</td>\n",
       "      <td>4</td>\n",
       "      <td>130142.79</td>\n",
       "      <td>1</td>\n",
       "      <td>1</td>\n",
       "      <td>0</td>\n",
       "      <td>38190.78</td>\n",
       "      <td>0</td>\n",
       "      <td>0</td>\n",
       "      <td>0</td>\n",
       "      <td>0</td>\n",
       "    </tr>\n",
       "  </tbody>\n",
       "</table>\n",
       "<p>10000 rows × 14 columns</p>\n",
       "</div>"
      ],
      "text/plain": [
       "      RowNumber  CustomerId  CreditScore  Age  Tenure    Balance  \\\n",
       "0             1    15634602          619   42       2       0.00   \n",
       "1             2    15647311          608   41       1   83807.86   \n",
       "2             3    15619304          502   42       8  159660.80   \n",
       "3             4    15701354          699   39       1       0.00   \n",
       "4             5    15737888          850   43       2  125510.82   \n",
       "...         ...         ...          ...  ...     ...        ...   \n",
       "9995       9996    15606229          771   39       5       0.00   \n",
       "9996       9997    15569892          516   35      10   57369.61   \n",
       "9997       9998    15584532          709   36       7       0.00   \n",
       "9998       9999    15682355          772   42       3   75075.31   \n",
       "9999      10000    15628319          792   28       4  130142.79   \n",
       "\n",
       "      NumOfProducts  HasCrCard  IsActiveMember  EstimatedSalary  Exited  \\\n",
       "0                 1          1               1        101348.88       1   \n",
       "1                 1          0               1        112542.58       0   \n",
       "2                 3          1               0        113931.57       1   \n",
       "3                 2          0               0         93826.63       0   \n",
       "4                 1          1               1         79084.10       0   \n",
       "...             ...        ...             ...              ...     ...   \n",
       "9995              2          1               0         96270.64       0   \n",
       "9996              1          1               1        101699.77       0   \n",
       "9997              1          0               1         42085.58       1   \n",
       "9998              2          1               0         92888.52       1   \n",
       "9999              1          1               0         38190.78       0   \n",
       "\n",
       "      Germany  Spain  Male  \n",
       "0           0      0     0  \n",
       "1           0      1     0  \n",
       "2           0      0     0  \n",
       "3           0      0     0  \n",
       "4           0      1     0  \n",
       "...       ...    ...   ...  \n",
       "9995        0      0     1  \n",
       "9996        0      0     1  \n",
       "9997        0      0     0  \n",
       "9998        1      0     1  \n",
       "9999        0      0     0  \n",
       "\n",
       "[10000 rows x 14 columns]"
      ]
     },
     "execution_count": 19,
     "metadata": {},
     "output_type": "execute_result"
    }
   ],
   "source": [
    "# Verificando se tudo ocorreu como esperado\n",
    "df_churn_clean"
   ]
  },
  {
   "cell_type": "code",
   "execution_count": 20,
   "metadata": {},
   "outputs": [
    {
     "data": {
      "text/html": [
       "<div>\n",
       "<style scoped>\n",
       "    .dataframe tbody tr th:only-of-type {\n",
       "        vertical-align: middle;\n",
       "    }\n",
       "\n",
       "    .dataframe tbody tr th {\n",
       "        vertical-align: top;\n",
       "    }\n",
       "\n",
       "    .dataframe thead th {\n",
       "        text-align: right;\n",
       "    }\n",
       "</style>\n",
       "<table border=\"1\" class=\"dataframe\">\n",
       "  <thead>\n",
       "    <tr style=\"text-align: right;\">\n",
       "      <th></th>\n",
       "      <th>RowNumber</th>\n",
       "      <th>CustomerId</th>\n",
       "      <th>CreditScore</th>\n",
       "      <th>Age</th>\n",
       "      <th>Tenure</th>\n",
       "      <th>Balance</th>\n",
       "      <th>NumOfProducts</th>\n",
       "      <th>HasCrCard</th>\n",
       "      <th>IsActiveMember</th>\n",
       "      <th>EstimatedSalary</th>\n",
       "      <th>Germany</th>\n",
       "      <th>Spain</th>\n",
       "      <th>Male</th>\n",
       "    </tr>\n",
       "  </thead>\n",
       "  <tbody>\n",
       "    <tr>\n",
       "      <th>0</th>\n",
       "      <td>10001</td>\n",
       "      <td>15798485</td>\n",
       "      <td>565</td>\n",
       "      <td>31</td>\n",
       "      <td>1</td>\n",
       "      <td>0.00</td>\n",
       "      <td>1</td>\n",
       "      <td>0</td>\n",
       "      <td>1</td>\n",
       "      <td>20443.08</td>\n",
       "      <td>0</td>\n",
       "      <td>0</td>\n",
       "      <td>1</td>\n",
       "    </tr>\n",
       "    <tr>\n",
       "      <th>1</th>\n",
       "      <td>10002</td>\n",
       "      <td>15588959</td>\n",
       "      <td>569</td>\n",
       "      <td>34</td>\n",
       "      <td>4</td>\n",
       "      <td>0.00</td>\n",
       "      <td>1</td>\n",
       "      <td>0</td>\n",
       "      <td>1</td>\n",
       "      <td>4045.90</td>\n",
       "      <td>0</td>\n",
       "      <td>0</td>\n",
       "      <td>1</td>\n",
       "    </tr>\n",
       "    <tr>\n",
       "      <th>2</th>\n",
       "      <td>10003</td>\n",
       "      <td>15624896</td>\n",
       "      <td>669</td>\n",
       "      <td>20</td>\n",
       "      <td>7</td>\n",
       "      <td>0.00</td>\n",
       "      <td>2</td>\n",
       "      <td>1</td>\n",
       "      <td>0</td>\n",
       "      <td>128838.67</td>\n",
       "      <td>0</td>\n",
       "      <td>0</td>\n",
       "      <td>0</td>\n",
       "    </tr>\n",
       "    <tr>\n",
       "      <th>3</th>\n",
       "      <td>10004</td>\n",
       "      <td>15639629</td>\n",
       "      <td>694</td>\n",
       "      <td>39</td>\n",
       "      <td>4</td>\n",
       "      <td>173255.48</td>\n",
       "      <td>1</td>\n",
       "      <td>1</td>\n",
       "      <td>1</td>\n",
       "      <td>81293.10</td>\n",
       "      <td>0</td>\n",
       "      <td>0</td>\n",
       "      <td>1</td>\n",
       "    </tr>\n",
       "    <tr>\n",
       "      <th>4</th>\n",
       "      <td>10005</td>\n",
       "      <td>15638852</td>\n",
       "      <td>504</td>\n",
       "      <td>28</td>\n",
       "      <td>10</td>\n",
       "      <td>109291.36</td>\n",
       "      <td>1</td>\n",
       "      <td>1</td>\n",
       "      <td>1</td>\n",
       "      <td>187593.15</td>\n",
       "      <td>0</td>\n",
       "      <td>1</td>\n",
       "      <td>1</td>\n",
       "    </tr>\n",
       "    <tr>\n",
       "      <th>...</th>\n",
       "      <td>...</td>\n",
       "      <td>...</td>\n",
       "      <td>...</td>\n",
       "      <td>...</td>\n",
       "      <td>...</td>\n",
       "      <td>...</td>\n",
       "      <td>...</td>\n",
       "      <td>...</td>\n",
       "      <td>...</td>\n",
       "      <td>...</td>\n",
       "      <td>...</td>\n",
       "      <td>...</td>\n",
       "      <td>...</td>\n",
       "    </tr>\n",
       "    <tr>\n",
       "      <th>995</th>\n",
       "      <td>10996</td>\n",
       "      <td>15730373</td>\n",
       "      <td>531</td>\n",
       "      <td>34</td>\n",
       "      <td>10</td>\n",
       "      <td>118306.79</td>\n",
       "      <td>1</td>\n",
       "      <td>1</td>\n",
       "      <td>0</td>\n",
       "      <td>26493.05</td>\n",
       "      <td>0</td>\n",
       "      <td>0</td>\n",
       "      <td>0</td>\n",
       "    </tr>\n",
       "    <tr>\n",
       "      <th>996</th>\n",
       "      <td>10997</td>\n",
       "      <td>15716191</td>\n",
       "      <td>575</td>\n",
       "      <td>49</td>\n",
       "      <td>2</td>\n",
       "      <td>136822.70</td>\n",
       "      <td>1</td>\n",
       "      <td>1</td>\n",
       "      <td>0</td>\n",
       "      <td>2487.74</td>\n",
       "      <td>1</td>\n",
       "      <td>0</td>\n",
       "      <td>1</td>\n",
       "    </tr>\n",
       "    <tr>\n",
       "      <th>997</th>\n",
       "      <td>10998</td>\n",
       "      <td>15673900</td>\n",
       "      <td>520</td>\n",
       "      <td>74</td>\n",
       "      <td>4</td>\n",
       "      <td>0.00</td>\n",
       "      <td>1</td>\n",
       "      <td>0</td>\n",
       "      <td>0</td>\n",
       "      <td>26742.92</td>\n",
       "      <td>0</td>\n",
       "      <td>0</td>\n",
       "      <td>0</td>\n",
       "    </tr>\n",
       "    <tr>\n",
       "      <th>998</th>\n",
       "      <td>10999</td>\n",
       "      <td>15581432</td>\n",
       "      <td>675</td>\n",
       "      <td>23</td>\n",
       "      <td>8</td>\n",
       "      <td>0.00</td>\n",
       "      <td>2</td>\n",
       "      <td>0</td>\n",
       "      <td>0</td>\n",
       "      <td>162342.21</td>\n",
       "      <td>0</td>\n",
       "      <td>1</td>\n",
       "      <td>1</td>\n",
       "    </tr>\n",
       "    <tr>\n",
       "      <th>999</th>\n",
       "      <td>11000</td>\n",
       "      <td>15669645</td>\n",
       "      <td>684</td>\n",
       "      <td>46</td>\n",
       "      <td>10</td>\n",
       "      <td>0.00</td>\n",
       "      <td>2</td>\n",
       "      <td>1</td>\n",
       "      <td>0</td>\n",
       "      <td>188772.98</td>\n",
       "      <td>0</td>\n",
       "      <td>0</td>\n",
       "      <td>1</td>\n",
       "    </tr>\n",
       "  </tbody>\n",
       "</table>\n",
       "<p>1000 rows × 13 columns</p>\n",
       "</div>"
      ],
      "text/plain": [
       "     RowNumber  CustomerId  CreditScore  Age  Tenure    Balance  \\\n",
       "0        10001    15798485          565   31       1       0.00   \n",
       "1        10002    15588959          569   34       4       0.00   \n",
       "2        10003    15624896          669   20       7       0.00   \n",
       "3        10004    15639629          694   39       4  173255.48   \n",
       "4        10005    15638852          504   28      10  109291.36   \n",
       "..         ...         ...          ...  ...     ...        ...   \n",
       "995      10996    15730373          531   34      10  118306.79   \n",
       "996      10997    15716191          575   49       2  136822.70   \n",
       "997      10998    15673900          520   74       4       0.00   \n",
       "998      10999    15581432          675   23       8       0.00   \n",
       "999      11000    15669645          684   46      10       0.00   \n",
       "\n",
       "     NumOfProducts  HasCrCard  IsActiveMember  EstimatedSalary  Germany  \\\n",
       "0                1          0               1         20443.08        0   \n",
       "1                1          0               1          4045.90        0   \n",
       "2                2          1               0        128838.67        0   \n",
       "3                1          1               1         81293.10        0   \n",
       "4                1          1               1        187593.15        0   \n",
       "..             ...        ...             ...              ...      ...   \n",
       "995              1          1               0         26493.05        0   \n",
       "996              1          1               0          2487.74        1   \n",
       "997              1          0               0         26742.92        0   \n",
       "998              2          0               0        162342.21        0   \n",
       "999              2          1               0        188772.98        0   \n",
       "\n",
       "     Spain  Male  \n",
       "0        0     1  \n",
       "1        0     1  \n",
       "2        0     0  \n",
       "3        0     1  \n",
       "4        1     1  \n",
       "..     ...   ...  \n",
       "995      0     0  \n",
       "996      0     1  \n",
       "997      0     0  \n",
       "998      1     1  \n",
       "999      0     1  \n",
       "\n",
       "[1000 rows x 13 columns]"
      ]
     },
     "execution_count": 20,
     "metadata": {},
     "output_type": "execute_result"
    }
   ],
   "source": [
    "# Verificando se ocerrou como esperado\n",
    "df_predict_churn_clean"
   ]
  },
  {
   "cell_type": "markdown",
   "metadata": {},
   "source": [
    "## Dados estatísticos, médias por agrupamento, gráficos"
   ]
  },
  {
   "cell_type": "markdown",
   "metadata": {},
   "source": [
    "#### Média de valores do dataframe agrupado por aqueles que sairam e os que não sairam do banco."
   ]
  },
  {
   "cell_type": "code",
   "execution_count": 21,
   "metadata": {},
   "outputs": [
    {
     "data": {
      "text/html": [
       "<div>\n",
       "<style scoped>\n",
       "    .dataframe tbody tr th:only-of-type {\n",
       "        vertical-align: middle;\n",
       "    }\n",
       "\n",
       "    .dataframe tbody tr th {\n",
       "        vertical-align: top;\n",
       "    }\n",
       "\n",
       "    .dataframe thead th {\n",
       "        text-align: right;\n",
       "    }\n",
       "</style>\n",
       "<table border=\"1\" class=\"dataframe\">\n",
       "  <thead>\n",
       "    <tr style=\"text-align: right;\">\n",
       "      <th></th>\n",
       "      <th>RowNumber</th>\n",
       "      <th>CustomerId</th>\n",
       "      <th>CreditScore</th>\n",
       "      <th>Age</th>\n",
       "      <th>Tenure</th>\n",
       "      <th>Balance</th>\n",
       "      <th>NumOfProducts</th>\n",
       "      <th>HasCrCard</th>\n",
       "      <th>IsActiveMember</th>\n",
       "      <th>EstimatedSalary</th>\n",
       "      <th>Germany</th>\n",
       "      <th>Spain</th>\n",
       "      <th>Male</th>\n",
       "    </tr>\n",
       "    <tr>\n",
       "      <th>Exited</th>\n",
       "      <th></th>\n",
       "      <th></th>\n",
       "      <th></th>\n",
       "      <th></th>\n",
       "      <th></th>\n",
       "      <th></th>\n",
       "      <th></th>\n",
       "      <th></th>\n",
       "      <th></th>\n",
       "      <th></th>\n",
       "      <th></th>\n",
       "      <th></th>\n",
       "      <th></th>\n",
       "    </tr>\n",
       "  </thead>\n",
       "  <tbody>\n",
       "    <tr>\n",
       "      <th>0</th>\n",
       "      <td>5024.694964</td>\n",
       "      <td>1.569117e+07</td>\n",
       "      <td>651.853196</td>\n",
       "      <td>37.408389</td>\n",
       "      <td>5.033279</td>\n",
       "      <td>72745.296779</td>\n",
       "      <td>1.544267</td>\n",
       "      <td>0.707146</td>\n",
       "      <td>0.554565</td>\n",
       "      <td>99738.391772</td>\n",
       "      <td>0.212859</td>\n",
       "      <td>0.259199</td>\n",
       "      <td>0.572523</td>\n",
       "    </tr>\n",
       "    <tr>\n",
       "      <th>1</th>\n",
       "      <td>4905.917526</td>\n",
       "      <td>1.569005e+07</td>\n",
       "      <td>645.351497</td>\n",
       "      <td>44.837997</td>\n",
       "      <td>4.932744</td>\n",
       "      <td>91108.539337</td>\n",
       "      <td>1.475209</td>\n",
       "      <td>0.699067</td>\n",
       "      <td>0.360825</td>\n",
       "      <td>101465.677531</td>\n",
       "      <td>0.399607</td>\n",
       "      <td>0.202749</td>\n",
       "      <td>0.440844</td>\n",
       "    </tr>\n",
       "  </tbody>\n",
       "</table>\n",
       "</div>"
      ],
      "text/plain": [
       "          RowNumber    CustomerId  CreditScore        Age    Tenure  \\\n",
       "Exited                                                                \n",
       "0       5024.694964  1.569117e+07   651.853196  37.408389  5.033279   \n",
       "1       4905.917526  1.569005e+07   645.351497  44.837997  4.932744   \n",
       "\n",
       "             Balance  NumOfProducts  HasCrCard  IsActiveMember  \\\n",
       "Exited                                                           \n",
       "0       72745.296779       1.544267   0.707146        0.554565   \n",
       "1       91108.539337       1.475209   0.699067        0.360825   \n",
       "\n",
       "        EstimatedSalary   Germany     Spain      Male  \n",
       "Exited                                                 \n",
       "0          99738.391772  0.212859  0.259199  0.572523  \n",
       "1         101465.677531  0.399607  0.202749  0.440844  "
      ]
     },
     "execution_count": 21,
     "metadata": {},
     "output_type": "execute_result"
    }
   ],
   "source": [
    "df_churn_clean.groupby('Exited').mean()\n",
    "#PESSOAS QUE SAIRAM DO BANCO SÃO EM MÉDIA 7 ANOS MAIS VELHAS DO QUE AS QUE ESTÃO NO BANCO, SÃO MENOS ATIVAS(IsActiveMember) \n",
    "#E TEM MAIS DINHEIRO (Balance)"
   ]
  },
  {
   "cell_type": "markdown",
   "metadata": {},
   "source": [
    "#### Média de valores do dataframe agrupado por gênero, sendo 0 = female e 1 = male."
   ]
  },
  {
   "cell_type": "code",
   "execution_count": 22,
   "metadata": {},
   "outputs": [
    {
     "data": {
      "text/html": [
       "<div>\n",
       "<style scoped>\n",
       "    .dataframe tbody tr th:only-of-type {\n",
       "        vertical-align: middle;\n",
       "    }\n",
       "\n",
       "    .dataframe tbody tr th {\n",
       "        vertical-align: top;\n",
       "    }\n",
       "\n",
       "    .dataframe thead th {\n",
       "        text-align: right;\n",
       "    }\n",
       "</style>\n",
       "<table border=\"1\" class=\"dataframe\">\n",
       "  <thead>\n",
       "    <tr style=\"text-align: right;\">\n",
       "      <th></th>\n",
       "      <th>RowNumber</th>\n",
       "      <th>CustomerId</th>\n",
       "      <th>CreditScore</th>\n",
       "      <th>Age</th>\n",
       "      <th>Tenure</th>\n",
       "      <th>Balance</th>\n",
       "      <th>NumOfProducts</th>\n",
       "      <th>HasCrCard</th>\n",
       "      <th>IsActiveMember</th>\n",
       "      <th>EstimatedSalary</th>\n",
       "      <th>Exited</th>\n",
       "      <th>Germany</th>\n",
       "      <th>Spain</th>\n",
       "    </tr>\n",
       "    <tr>\n",
       "      <th>Male</th>\n",
       "      <th></th>\n",
       "      <th></th>\n",
       "      <th></th>\n",
       "      <th></th>\n",
       "      <th></th>\n",
       "      <th></th>\n",
       "      <th></th>\n",
       "      <th></th>\n",
       "      <th></th>\n",
       "      <th></th>\n",
       "      <th></th>\n",
       "      <th></th>\n",
       "      <th></th>\n",
       "    </tr>\n",
       "  </thead>\n",
       "  <tbody>\n",
       "    <tr>\n",
       "      <th>0</th>\n",
       "      <td>4942.929562</td>\n",
       "      <td>1.569115e+07</td>\n",
       "      <td>650.831389</td>\n",
       "      <td>39.238389</td>\n",
       "      <td>4.966102</td>\n",
       "      <td>75659.369139</td>\n",
       "      <td>1.544134</td>\n",
       "      <td>0.702619</td>\n",
       "      <td>0.502751</td>\n",
       "      <td>100601.541382</td>\n",
       "      <td>0.250715</td>\n",
       "      <td>0.262602</td>\n",
       "      <td>0.239709</td>\n",
       "    </tr>\n",
       "    <tr>\n",
       "      <th>1</th>\n",
       "      <td>5048.427891</td>\n",
       "      <td>1.569077e+07</td>\n",
       "      <td>650.276892</td>\n",
       "      <td>38.658237</td>\n",
       "      <td>5.051677</td>\n",
       "      <td>77173.974506</td>\n",
       "      <td>1.518600</td>\n",
       "      <td>0.707898</td>\n",
       "      <td>0.525380</td>\n",
       "      <td>99664.576931</td>\n",
       "      <td>0.164559</td>\n",
       "      <td>0.241158</td>\n",
       "      <td>0.254352</td>\n",
       "    </tr>\n",
       "  </tbody>\n",
       "</table>\n",
       "</div>"
      ],
      "text/plain": [
       "        RowNumber    CustomerId  CreditScore        Age    Tenure  \\\n",
       "Male                                                                \n",
       "0     4942.929562  1.569115e+07   650.831389  39.238389  4.966102   \n",
       "1     5048.427891  1.569077e+07   650.276892  38.658237  5.051677   \n",
       "\n",
       "           Balance  NumOfProducts  HasCrCard  IsActiveMember  EstimatedSalary  \\\n",
       "Male                                                                            \n",
       "0     75659.369139       1.544134   0.702619        0.502751    100601.541382   \n",
       "1     77173.974506       1.518600   0.707898        0.525380     99664.576931   \n",
       "\n",
       "        Exited   Germany     Spain  \n",
       "Male                                \n",
       "0     0.250715  0.262602  0.239709  \n",
       "1     0.164559  0.241158  0.254352  "
      ]
     },
     "execution_count": 22,
     "metadata": {},
     "output_type": "execute_result"
    }
   ],
   "source": [
    "df_churn_clean.groupby('Male').mean()\n",
    "#GENDER FEMALE NORMALMENTE SAI MAIS DA EMPRESA QUE HOMENS"
   ]
  },
  {
   "cell_type": "markdown",
   "metadata": {},
   "source": [
    "#### Gráfico de pessoas que sairam do banco e as que ainda estão nele."
   ]
  },
  {
   "cell_type": "code",
   "execution_count": 23,
   "metadata": {},
   "outputs": [
    {
     "data": {
      "text/plain": [
       "0    7963\n",
       "1    2037\n",
       "Name: Exited, dtype: int64"
      ]
     },
     "execution_count": 23,
     "metadata": {},
     "output_type": "execute_result"
    }
   ],
   "source": [
    "df_churn_clean.Exited.value_counts()"
   ]
  },
  {
   "cell_type": "code",
   "execution_count": 24,
   "metadata": {},
   "outputs": [
    {
     "data": {
      "image/png": "[encoded data removed]",
      "text/plain": [
       "<Figure size 432x288 with 1 Axes>"
      ]
     },
     "metadata": {
      "needs_background": "light"
     },
     "output_type": "display_data"
    }
   ],
   "source": [
    "sns.countplot(x='Exited', data=df_churn_clean)\n",
    "plt.xticks([0, 1], ['Stayed', 'Left'])\n",
    "plt.show()"
   ]
  },
  {
   "cell_type": "markdown",
   "metadata": {},
   "source": [
    "#### Gráfico de pessoas de cada pais."
   ]
  },
  {
   "cell_type": "code",
   "execution_count": 25,
   "metadata": {},
   "outputs": [
    {
     "data": {
      "image/png": "[encoded data removed]",
      "text/plain": [
       "<Figure size 432x288 with 1 Axes>"
      ]
     },
     "metadata": {
      "needs_background": "light"
     },
     "output_type": "display_data"
    }
   ],
   "source": [
    "sns.countplot(x='Geography', data=df_churn)\n",
    "plt.show()"
   ]
  },
  {
   "cell_type": "markdown",
   "metadata": {},
   "source": [
    "#### Gráfico mostrando os valores de pessoas que sairam e que não do banco, agrupado por gênero."
   ]
  },
  {
   "cell_type": "code",
   "execution_count": 26,
   "metadata": {},
   "outputs": [
    {
     "data": {
      "image/png": "[encoded data removed]",
      "text/plain": [
       "<Figure size 432x288 with 1 Axes>"
      ]
     },
     "metadata": {
      "needs_background": "light"
     },
     "output_type": "display_data"
    }
   ],
   "source": [
    "pd.crosstab(df_churn_clean.Male,df_churn_clean.Exited).plot(kind='bar')\n",
    "plt.title('Exited frequency for Gender')\n",
    "plt.legend(['Stayed', 'Left'])\n",
    "plt.xticks([0, 1], ['Female', 'Male'], rotation='horizontal')\n",
    "plt.xlabel('Gender')\n",
    "plt.ylabel('Frequency of Exited')\n",
    "plt.show()"
   ]
  },
  {
   "cell_type": "markdown",
   "metadata": {},
   "source": [
    "#### Histograma de idade, faixa etaria mais frequente dos clientes do banco é entre 30 e 40 anos."
   ]
  },
  {
   "cell_type": "code",
   "execution_count": 27,
   "metadata": {
    "scrolled": true
   },
   "outputs": [
    {
     "data": {
      "image/png": "[encoded data removed]",
      "text/plain": [
       "<Figure size 936x360 with 1 Axes>"
      ]
     },
     "metadata": {
      "needs_background": "light"
     },
     "output_type": "display_data"
    }
   ],
   "source": [
    "plt.figure(figsize=(13, 5))\n",
    "plt.hist(df_churn_clean.Age)\n",
    "plt.title('Histogram of Age')\n",
    "plt.xlabel('Age')\n",
    "plt.ylabel('Frequency')\n",
    "plt.show()"
   ]
  },
  {
   "cell_type": "markdown",
   "metadata": {},
   "source": [
    "##### Gráfico de quem ficou ou saiu do banco agrupado por país"
   ]
  },
  {
   "cell_type": "code",
   "execution_count": 28,
   "metadata": {},
   "outputs": [],
   "source": [
    "# Tratando dados para gerar a tabela abaixo\n",
    "df_country = df_churn.groupby(df_churn['Geography']).sum().reset_index()\n",
    "df_country_inverse = df_churn.copy()\n",
    "df_country_inverse.Exited = df_country_inverse.Exited.map({0: 1, 1: 0})\n",
    "df_country_inverse = df_country_inverse.groupby(df_country_inverse['Geography']).sum().reset_index()"
   ]
  },
  {
   "cell_type": "code",
   "execution_count": 29,
   "metadata": {},
   "outputs": [
    {
     "data": {
      "image/png": "[encoded data removed]",
      "text/plain": [
       "<Figure size 504x288 with 1 Axes>"
      ]
     },
     "metadata": {
      "needs_background": "light"
     },
     "output_type": "display_data"
    }
   ],
   "source": [
    "# Visualização da tabela de Exited frequency by country\n",
    "plt.figure(figsize=(7, 4))\n",
    "plt.bar(np.array([0, 1, 2]) + 0.4, df_country_inverse.Exited, width=0.4)\n",
    "plt.bar([0, 1, 2], df_country.Exited, width=0.4)\n",
    "plt.title('Exited frequency by country')\n",
    "plt.xlabel('Countries')\n",
    "plt.ylabel('Frequency of Exited')\n",
    "plt.xticks(np.array([0, 1, 2]) + 0.2, labels=['France', 'Germany', 'Spain'])\n",
    "plt.legend(['Stayed', 'Left'])\n",
    "plt.show()"
   ]
  },
  {
   "cell_type": "markdown",
   "metadata": {},
   "source": [
    "##### Gráfico de quem ficou ou saiu do banco agrupado por idade de 10 em 10 anos"
   ]
  },
  {
   "cell_type": "code",
   "execution_count": 30,
   "metadata": {},
   "outputs": [],
   "source": [
    "# Bins, labels e agrupamento por age ranges para gerar as duas tabelas abaixo\n",
    "bins = [0, 10, 20, 30, 40, 50, 60, 70, 80, 90, 100]\n",
    "labels=['0-10', '10-20', '20-30', '30-40', '40-50', '50-60', '60-70', '70-80', '80-90', '90-100']\n",
    "\n",
    "df_age_ranges = df_churn_clean.groupby(pd.cut(df_churn_clean['Age'], bins=bins, labels=labels)).sum()\n",
    "df_age_ranges.index = df_age_ranges.index.rename('range')\n",
    "df_age_ranges = df_age_ranges.reset_index()\n",
    "\n",
    "ticks = np.array([0, 1, 2, 3, 4, 5, 6, 7, 8, 9])"
   ]
  },
  {
   "cell_type": "code",
   "execution_count": 31,
   "metadata": {},
   "outputs": [],
   "source": [
    "# Tratamento dos dados para gerar a tabela Exited frequency by age range\n",
    "\n",
    "df_age_ranges_exited = df_churn_clean.copy() # Criando uma cópia da tabela\n",
    "# Invertendo os valores da coluna male para conseguir fazer a soma das pessoas que ficaram no banco\n",
    "df_age_ranges_exited.Exited = df_age_ranges_exited.Exited.map({0: 1, 1: 0})\n",
    "df_age_ranges_exited = df_age_ranges_exited.groupby(pd.cut(df_churn_clean['Age'], bins=bins, labels=labels)).sum()\n",
    "df_age_ranges_exited.index = df_age_ranges_exited.index.rename('range')\n",
    "df_age_ranges_exited = df_age_ranges_exited.reset_index()"
   ]
  },
  {
   "cell_type": "code",
   "execution_count": 32,
   "metadata": {
    "scrolled": false
   },
   "outputs": [
    {
     "data": {
      "image/png": "[encoded data removed]",
      "text/plain": [
       "<Figure size 936x432 with 1 Axes>"
      ]
     },
     "metadata": {
      "needs_background": "light"
     },
     "output_type": "display_data"
    }
   ],
   "source": [
    "# Visualização da tabela Exited frequency by age range\n",
    "plt.figure(figsize=(13, 6))\n",
    "plt.bar(ticks, df_age_ranges_exited.Exited, width=0.4)\n",
    "plt.bar(ticks + 0.4, df_age_ranges.Exited, width=0.4)\n",
    "plt.xticks(ticks + 0.2, labels=labels)\n",
    "plt.title('Exited frequency for age range')\n",
    "plt.xlabel('Age')\n",
    "plt.ylabel('Frequency of Exited')\n",
    "plt.legend(['Stayed', 'Left'])\n",
    "plt.show()"
   ]
  },
  {
   "cell_type": "markdown",
   "metadata": {},
   "source": [
    "##### Gráfico de gênero agrupado por idade de 10 em 10 anos"
   ]
  },
  {
   "cell_type": "code",
   "execution_count": 33,
   "metadata": {},
   "outputs": [],
   "source": [
    "# Tratamento dos dados para gerar a tabela Gender frequency by age range\n",
    "\n",
    "df_age_ranges_exited_gender = df_churn_clean.copy()\n",
    "# Invertendo os valores da coluna male para conseguir fazer a soma do gender female\n",
    "df_age_ranges_exited_gender.Male = df_age_ranges_exited_gender.Male.map({0: 1, 1: 0}) \n",
    "df_age_ranges_exited_gender = df_age_ranges_exited_gender.groupby(pd.cut(df_churn_clean['Age'], bins=bins, labels=labels)).sum()\n",
    "df_age_ranges_exited_gender.index = df_age_ranges_exited_gender.index.rename('range')\n",
    "df_age_ranges_exited_gender = df_age_ranges_exited_gender.reset_index()"
   ]
  },
  {
   "cell_type": "code",
   "execution_count": 34,
   "metadata": {},
   "outputs": [
    {
     "data": {
      "image/png": "[encoded data removed]",
      "text/plain": [
       "<Figure size 936x432 with 1 Axes>"
      ]
     },
     "metadata": {
      "needs_background": "light"
     },
     "output_type": "display_data"
    }
   ],
   "source": [
    "# Visualização da tabela Gender frequency by age range\n",
    "plt.figure(figsize=(13, 6))\n",
    "plt.bar(ticks, df_age_ranges_exited_gender.Male, width=0.4)\n",
    "plt.bar(ticks + 0.4, df_age_ranges.Male, width=0.4)\n",
    "plt.xticks(ticks + 0.2, labels=labels)\n",
    "plt.title('Gender frequency by age range')\n",
    "plt.xlabel('Age')\n",
    "plt.ylabel('Frequency of Gender')\n",
    "plt.legend(['Female', 'Male'])\n",
    "plt.show()"
   ]
  },
  {
   "cell_type": "code",
   "execution_count": 35,
   "metadata": {},
   "outputs": [
    {
     "data": {
      "text/plain": [
       "('Standard Deviation CreditScore:', 96.64846595037113)"
      ]
     },
     "execution_count": 35,
     "metadata": {},
     "output_type": "execute_result"
    }
   ],
   "source": [
    "\"Standard Deviation CreditScore:\", np.std(df_churn_clean.CreditScore)"
   ]
  },
  {
   "cell_type": "code",
   "execution_count": 36,
   "metadata": {},
   "outputs": [
    {
     "data": {
      "text/plain": [
       "('Standard Deviation EstimatedSalary:', 57507.61722116562)"
      ]
     },
     "execution_count": 36,
     "metadata": {},
     "output_type": "execute_result"
    }
   ],
   "source": [
    "\"Standard Deviation EstimatedSalary:\", np.std(df_churn_clean.EstimatedSalary)"
   ]
  },
  {
   "cell_type": "code",
   "execution_count": 37,
   "metadata": {},
   "outputs": [
    {
     "data": {
      "text/plain": [
       "('Standard Deviation Balance:', 62394.285254125454)"
      ]
     },
     "execution_count": 37,
     "metadata": {},
     "output_type": "execute_result"
    }
   ],
   "source": [
    "\"Standard Deviation Balance:\", np.std(df_churn_clean.Balance)"
   ]
  },
  {
   "cell_type": "code",
   "execution_count": 38,
   "metadata": {},
   "outputs": [
    {
     "data": {
      "text/plain": [
       "('Amplitude CreditScore:', 199980.90000000002)"
      ]
     },
     "execution_count": 38,
     "metadata": {},
     "output_type": "execute_result"
    }
   ],
   "source": [
    "\"Amplitude CreditScore:\", max(df_churn_clean.EstimatedSalary) - min(df_churn_clean.EstimatedSalary)"
   ]
  },
  {
   "cell_type": "code",
   "execution_count": 39,
   "metadata": {},
   "outputs": [
    {
     "data": {
      "text/plain": [
       "('Amplitude Balance:', 250898.09)"
      ]
     },
     "execution_count": 39,
     "metadata": {},
     "output_type": "execute_result"
    }
   ],
   "source": [
    "\"Amplitude Balance:\", max(df_churn_clean.Balance) - min(df_churn_clean.Balance)"
   ]
  },
  {
   "cell_type": "code",
   "execution_count": 40,
   "metadata": {},
   "outputs": [
    {
     "data": {
      "text/plain": [
       "('Amplitude EstimatedSalary:', 199980.90000000002)"
      ]
     },
     "execution_count": 40,
     "metadata": {},
     "output_type": "execute_result"
    }
   ],
   "source": [
    "\"Amplitude EstimatedSalary:\", max(df_churn_clean.EstimatedSalary) - min(df_churn_clean.EstimatedSalary)"
   ]
  },
  {
   "cell_type": "markdown",
   "metadata": {},
   "source": [
    "## Machine Learning"
   ]
  },
  {
   "cell_type": "markdown",
   "metadata": {},
   "source": [
    "Retirando colunas desnecessárias para o treinamento do algoritmo."
   ]
  },
  {
   "cell_type": "code",
   "execution_count": 41,
   "metadata": {},
   "outputs": [],
   "source": [
    "X = df_churn_clean.drop(['Exited', 'CustomerId', 'RowNumber'], axis=1)\n",
    "y = df_churn_clean.Exited"
   ]
  },
  {
   "cell_type": "markdown",
   "metadata": {},
   "source": [
    "Separando os dados em 80% para treinar o algoritmo e 20% para testar"
   ]
  },
  {
   "cell_type": "code",
   "execution_count": 42,
   "metadata": {},
   "outputs": [],
   "source": [
    "x_train, x_test, y_train, y_test = train_test_split(X, y, test_size=0.2)"
   ]
  },
  {
   "cell_type": "markdown",
   "metadata": {},
   "source": [
    "### Algoritmos de machine learning"
   ]
  },
  {
   "cell_type": "markdown",
   "metadata": {},
   "source": [
    "Usei o método de RandomForest por ser um dos melhores no objetivo de classificar, logo após testei também com Regressão Logistíca por que o resultado esperado é apenas 0 ou 1, também sendo um bom algoritmo de classificação binaria."
   ]
  },
  {
   "cell_type": "markdown",
   "metadata": {},
   "source": [
    "Coloquei o peso das classes(colunas) como \"balanced\" pois os dados eram muito diferentes uns dos outros, enquanto o salário estava com valores na casa de milhares, havia colunas com valores 0 ou 1."
   ]
  },
  {
   "cell_type": "code",
   "execution_count": 43,
   "metadata": {},
   "outputs": [],
   "source": [
    "# Random Forest apresenta uma boa precisão e accuracy.\n",
    "randomforest = RandomForestClassifier(n_estimators=800, class_weight=\"balanced\")  \n",
    "randomforest.fit(x_train, y_train)  \n",
    "predictions = randomforest.predict(x_test)"
   ]
  },
  {
   "cell_type": "code",
   "execution_count": 44,
   "metadata": {},
   "outputs": [
    {
     "name": "stdout",
     "output_type": "stream",
     "text": [
      "              precision    recall  f1-score   support\n",
      "\n",
      "           0       0.87      0.96      0.91      1586\n",
      "           1       0.76      0.44      0.56       414\n",
      "\n",
      "    accuracy                           0.86      2000\n",
      "   macro avg       0.82      0.70      0.73      2000\n",
      "weighted avg       0.85      0.86      0.84      2000\n",
      "\n"
     ]
    }
   ],
   "source": [
    "print(classification_report(y_test, predictions))"
   ]
  },
  {
   "cell_type": "code",
   "execution_count": 45,
   "metadata": {},
   "outputs": [
    {
     "name": "stdout",
     "output_type": "stream",
     "text": [
      "[[1530   56]\n",
      " [ 233  181]]\n"
     ]
    }
   ],
   "source": [
    "print(confusion_matrix(y_test, predictions))"
   ]
  },
  {
   "cell_type": "code",
   "execution_count": 46,
   "metadata": {},
   "outputs": [
    {
     "data": {
      "image/png": "[encoded data removed]",
      "text/plain": [
       "<Figure size 432x288 with 1 Axes>"
      ]
     },
     "metadata": {
      "needs_background": "light"
     },
     "output_type": "display_data"
    }
   ],
   "source": [
    "feature_importances = pd.Series(randomforest.feature_importances_, index=X.columns)\n",
    "feature_importances.nlargest(11).plot(kind='barh')\n",
    "plt.title('Importante of each feature in random forest algorithm')\n",
    "plt.xlabel('Importance')\n",
    "plt.show()"
   ]
  },
  {
   "cell_type": "code",
   "execution_count": 47,
   "metadata": {
    "scrolled": true
   },
   "outputs": [],
   "source": [
    "# Logistic Regression apresenta um bom recall e uma accuracy razoável.\n",
    "logreg = LogisticRegression(max_iter=150, class_weight=\"balanced\")\n",
    "logreg.fit(x_train, y_train)\n",
    "predictions_logreg = logreg.predict(x_test)"
   ]
  },
  {
   "cell_type": "code",
   "execution_count": 48,
   "metadata": {},
   "outputs": [
    {
     "name": "stdout",
     "output_type": "stream",
     "text": [
      "              precision    recall  f1-score   support\n",
      "\n",
      "           0       0.88      0.64      0.74      1586\n",
      "           1       0.33      0.66      0.44       414\n",
      "\n",
      "    accuracy                           0.65      2000\n",
      "   macro avg       0.60      0.65      0.59      2000\n",
      "weighted avg       0.76      0.65      0.68      2000\n",
      "\n"
     ]
    }
   ],
   "source": [
    "print(classification_report(y_test, predictions_logreg))"
   ]
  },
  {
   "cell_type": "code",
   "execution_count": 49,
   "metadata": {},
   "outputs": [
    {
     "name": "stdout",
     "output_type": "stream",
     "text": [
      "[[1022  564]\n",
      " [ 142  272]]\n"
     ]
    }
   ],
   "source": [
    "print(confusion_matrix(y_test, predictions_logreg))"
   ]
  },
  {
   "cell_type": "markdown",
   "metadata": {},
   "source": [
    "## Conclusões"
   ]
  },
  {
   "cell_type": "markdown",
   "metadata": {},
   "source": [
    "Ao meu ver, há duas formas de resolver o problema, uma, pensando em fazer com que o banco saiba as pessoas que estão prestes a sair do banco, para haver formas de contê-las na intituição, ou saber apenas saber o número mais exato possível para, por exemplo saber se há condições de expandi-lo.\n",
    "\n",
    "Caso fosse o primeiro problema, usaria-se como medida de performance o recall e usaria-se a regressão logística, que apresentaria um número menor de falsos negativos, ou seja teria menos gente sendo classificada como que não sairia do banco mas acabasse saindo, mas em contra partida, o inverso aconteceria mais frequentemente (pessoas que seriam classificadas que sairiam do banco mas não saissem), o que não acarretaria prejuízo algum.\n",
    "\n",
    "No segundo caso, usaria-se como medida de performance o precision que mediria a taxa de acerto e usaria-se floresta aleatória, pois apresentaria-se um número mais exato."
   ]
  },
  {
   "cell_type": "markdown",
   "metadata": {},
   "source": [
    "## Prevendo os dados"
   ]
  },
  {
   "cell_type": "markdown",
   "metadata": {},
   "source": [
    "Utilizei a regressão logística pois achei que seria melhor para o banco, saber quem está prestes a sair para conseguir fazer algo a respeito."
   ]
  },
  {
   "cell_type": "code",
   "execution_count": 50,
   "metadata": {},
   "outputs": [],
   "source": [
    "x_topredict = df_predict_churn_clean.drop(['CustomerId', 'RowNumber'], axis=1)\n",
    "\n",
    "X = df_churn_clean.drop(['Exited', 'CustomerId', 'RowNumber'], axis=1)\n",
    "y = df_churn_clean.Exited"
   ]
  },
  {
   "cell_type": "code",
   "execution_count": 51,
   "metadata": {},
   "outputs": [],
   "source": [
    "logregression = LogisticRegression(class_weight='balanced', max_iter=150)\n",
    "logregression.fit(X, y)\n",
    "predictions = logregression.predict(x_topredict)"
   ]
  },
  {
   "cell_type": "code",
   "execution_count": 52,
   "metadata": {},
   "outputs": [],
   "source": [
    "predicted_values = pd.DataFrame()\n",
    "predicted_values['rowNumber'] = df_predict_churn_clean.RowNumber\n",
    "predicted_values['predictedValues'] = predictions.reshape(-1, 1)"
   ]
  },
  {
   "cell_type": "code",
   "execution_count": 53,
   "metadata": {},
   "outputs": [
    {
     "data": {
      "text/html": [
       "<div>\n",
       "<style scoped>\n",
       "    .dataframe tbody tr th:only-of-type {\n",
       "        vertical-align: middle;\n",
       "    }\n",
       "\n",
       "    .dataframe tbody tr th {\n",
       "        vertical-align: top;\n",
       "    }\n",
       "\n",
       "    .dataframe thead th {\n",
       "        text-align: right;\n",
       "    }\n",
       "</style>\n",
       "<table border=\"1\" class=\"dataframe\">\n",
       "  <thead>\n",
       "    <tr style=\"text-align: right;\">\n",
       "      <th></th>\n",
       "      <th>rowNumber</th>\n",
       "      <th>predictedValues</th>\n",
       "    </tr>\n",
       "  </thead>\n",
       "  <tbody>\n",
       "    <tr>\n",
       "      <th>0</th>\n",
       "      <td>10001</td>\n",
       "      <td>0</td>\n",
       "    </tr>\n",
       "    <tr>\n",
       "      <th>1</th>\n",
       "      <td>10002</td>\n",
       "      <td>0</td>\n",
       "    </tr>\n",
       "    <tr>\n",
       "      <th>2</th>\n",
       "      <td>10003</td>\n",
       "      <td>0</td>\n",
       "    </tr>\n",
       "    <tr>\n",
       "      <th>3</th>\n",
       "      <td>10004</td>\n",
       "      <td>0</td>\n",
       "    </tr>\n",
       "    <tr>\n",
       "      <th>4</th>\n",
       "      <td>10005</td>\n",
       "      <td>0</td>\n",
       "    </tr>\n",
       "    <tr>\n",
       "      <th>...</th>\n",
       "      <td>...</td>\n",
       "      <td>...</td>\n",
       "    </tr>\n",
       "    <tr>\n",
       "      <th>995</th>\n",
       "      <td>10996</td>\n",
       "      <td>1</td>\n",
       "    </tr>\n",
       "    <tr>\n",
       "      <th>996</th>\n",
       "      <td>10997</td>\n",
       "      <td>1</td>\n",
       "    </tr>\n",
       "    <tr>\n",
       "      <th>997</th>\n",
       "      <td>10998</td>\n",
       "      <td>1</td>\n",
       "    </tr>\n",
       "    <tr>\n",
       "      <th>998</th>\n",
       "      <td>10999</td>\n",
       "      <td>0</td>\n",
       "    </tr>\n",
       "    <tr>\n",
       "      <th>999</th>\n",
       "      <td>11000</td>\n",
       "      <td>0</td>\n",
       "    </tr>\n",
       "  </tbody>\n",
       "</table>\n",
       "<p>1000 rows × 2 columns</p>\n",
       "</div>"
      ],
      "text/plain": [
       "     rowNumber  predictedValues\n",
       "0        10001                0\n",
       "1        10002                0\n",
       "2        10003                0\n",
       "3        10004                0\n",
       "4        10005                0\n",
       "..         ...              ...\n",
       "995      10996                1\n",
       "996      10997                1\n",
       "997      10998                1\n",
       "998      10999                0\n",
       "999      11000                0\n",
       "\n",
       "[1000 rows x 2 columns]"
      ]
     },
     "execution_count": 53,
     "metadata": {},
     "output_type": "execute_result"
    }
   ],
   "source": [
    "predicted_values"
   ]
  },
  {
   "cell_type": "code",
   "execution_count": 55,
   "metadata": {},
   "outputs": [],
   "source": [
    "predicted_values.to_csv('Teste.csv', index=False, sep=';')"
   ]
  },
  {
   "cell_type": "code",
   "execution_count": null,
   "metadata": {},
   "outputs": [],
   "source": []
  }
 ],
 "metadata": {
  "kernelspec": {
   "display_name": "Python 3",
   "language": "python",
   "name": "python3"
  },
  "language_info": {
   "codemirror_mode": {
    "name": "ipython",
    "version": 3
   },
   "file_extension": ".py",
   "mimetype": "text/x-python",
   "name": "python",
   "nbconvert_exporter": "python",
   "pygments_lexer": "ipython3",
   "version": "3.8.3"
  }
 },
 "nbformat": 4,
 "nbformat_minor": 4
}
